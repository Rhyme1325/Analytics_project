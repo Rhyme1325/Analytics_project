{
 "cells": [
  {
   "cell_type": "markdown",
   "metadata": {},
   "source": [
    "# ANALYTICS PROJECT"
   ]
  },
  {
   "cell_type": "markdown",
   "metadata": {},
   "source": [
    "#### Group name: \n",
    "- Group_1"
   ]
  },
  {
   "cell_type": "markdown",
   "metadata": {},
   "source": [
    "#### Group Members:\n",
    "- Omer Yalavac\n",
    "- Vincent Tang\n",
    "- Rhyme Bulbul"
   ]
  },
  {
   "cell_type": "markdown",
   "metadata": {},
   "source": [
    "# Table of Contents\n",
    "1. [Introduction](#Introduction)\n",
    "2. [Overview](#Overview)\n",
    "3. [Third Example](#third-example)\n",
    "4. [Fourth Example](#fourth-examplehttpwwwfourthexamplecom)"
   ]
  },
  {
   "cell_type": "markdown",
   "metadata": {},
   "source": [
    "# Introduction <a name=\"Introduction\"></a>"
   ]
  },
  {
   "cell_type": "markdown",
   "metadata": {},
   "source": [
    "The objective of this project is to "
   ]
  },
  {
   "cell_type": "markdown",
   "metadata": {},
   "source": [
    "# Overview <a name=\"Overview\"></a>"
   ]
  },
  {
   "cell_type": "markdown",
   "metadata": {},
   "source": [
    "### Data Source"
   ]
  },
  {
   "cell_type": "markdown",
   "metadata": {},
   "source": [
    "Dataset was collected from http://archive.ics.uci.edu/ml/datasets/Student+Performance, using 'student-por.csv'.\n",
    "Our dataset has 649 instances, with 33 attributes, which can be verified with <code>df.dtypes</code>."
   ]
  },
  {
   "cell_type": "code",
<<<<<<< HEAD
   "execution_count": 1,
=======
   "execution_count": 3,
>>>>>>> Rhyme
   "metadata": {},
   "outputs": [],
   "source": [
    "import pandas as pd\n",
    "\n",
    "df = pd.read_csv('student-por.csv', sep=';')"
   ]
  },
  {
   "cell_type": "markdown",
   "metadata": {},
   "source": [
    "Our dataset was only one column of data including the column title with only the semi-colon (;) symbol seperating values, and so it needed to be seperated when being read in order to create the seperate columns with their respective row values using \n",
    "```\n",
    "sep = ';'\n",
    "```\n",
    "---\n",
    "This is how our dataset currently looks:"
   ]
  },
  {
   "cell_type": "code",
   "execution_count": 4,
   "metadata": {},
   "outputs": [
    {
     "data": {
      "text/html": [
       "<div>\n",
       "<style scoped>\n",
       "    .dataframe tbody tr th:only-of-type {\n",
       "        vertical-align: middle;\n",
       "    }\n",
       "\n",
       "    .dataframe tbody tr th {\n",
       "        vertical-align: top;\n",
       "    }\n",
       "\n",
       "    .dataframe thead th {\n",
       "        text-align: right;\n",
       "    }\n",
       "</style>\n",
       "<table border=\"1\" class=\"dataframe\">\n",
       "  <thead>\n",
       "    <tr style=\"text-align: right;\">\n",
       "      <th></th>\n",
       "      <th>school</th>\n",
       "      <th>sex</th>\n",
       "      <th>age</th>\n",
       "      <th>address</th>\n",
       "      <th>famsize</th>\n",
       "      <th>Pstatus</th>\n",
       "      <th>Medu</th>\n",
       "      <th>Fedu</th>\n",
       "      <th>Mjob</th>\n",
       "      <th>Fjob</th>\n",
       "      <th>...</th>\n",
       "      <th>famrel</th>\n",
       "      <th>freetime</th>\n",
       "      <th>goout</th>\n",
       "      <th>Dalc</th>\n",
       "      <th>Walc</th>\n",
       "      <th>health</th>\n",
       "      <th>absences</th>\n",
       "      <th>G1</th>\n",
       "      <th>G2</th>\n",
       "      <th>G3</th>\n",
       "    </tr>\n",
       "  </thead>\n",
       "  <tbody>\n",
       "    <tr>\n",
       "      <th>0</th>\n",
       "      <td>GP</td>\n",
       "      <td>F</td>\n",
       "      <td>18</td>\n",
       "      <td>U</td>\n",
       "      <td>GT3</td>\n",
       "      <td>A</td>\n",
       "      <td>4</td>\n",
       "      <td>4</td>\n",
       "      <td>at_home</td>\n",
       "      <td>teacher</td>\n",
       "      <td>...</td>\n",
       "      <td>4</td>\n",
       "      <td>3</td>\n",
       "      <td>4</td>\n",
       "      <td>1</td>\n",
       "      <td>1</td>\n",
       "      <td>3</td>\n",
       "      <td>4</td>\n",
       "      <td>0</td>\n",
       "      <td>11</td>\n",
       "      <td>11</td>\n",
       "    </tr>\n",
       "    <tr>\n",
       "      <th>1</th>\n",
       "      <td>GP</td>\n",
       "      <td>F</td>\n",
       "      <td>17</td>\n",
       "      <td>U</td>\n",
       "      <td>GT3</td>\n",
       "      <td>T</td>\n",
       "      <td>1</td>\n",
       "      <td>1</td>\n",
       "      <td>at_home</td>\n",
       "      <td>other</td>\n",
       "      <td>...</td>\n",
       "      <td>5</td>\n",
       "      <td>3</td>\n",
       "      <td>3</td>\n",
       "      <td>1</td>\n",
       "      <td>1</td>\n",
       "      <td>3</td>\n",
       "      <td>2</td>\n",
       "      <td>9</td>\n",
       "      <td>11</td>\n",
       "      <td>11</td>\n",
       "    </tr>\n",
       "    <tr>\n",
       "      <th>2</th>\n",
       "      <td>GP</td>\n",
       "      <td>F</td>\n",
       "      <td>15</td>\n",
       "      <td>U</td>\n",
       "      <td>LE3</td>\n",
       "      <td>T</td>\n",
       "      <td>1</td>\n",
       "      <td>1</td>\n",
       "      <td>at_home</td>\n",
       "      <td>other</td>\n",
       "      <td>...</td>\n",
       "      <td>4</td>\n",
       "      <td>3</td>\n",
       "      <td>2</td>\n",
       "      <td>2</td>\n",
       "      <td>3</td>\n",
       "      <td>3</td>\n",
       "      <td>6</td>\n",
       "      <td>12</td>\n",
       "      <td>13</td>\n",
       "      <td>12</td>\n",
       "    </tr>\n",
       "    <tr>\n",
       "      <th>3</th>\n",
       "      <td>GP</td>\n",
       "      <td>F</td>\n",
       "      <td>15</td>\n",
       "      <td>U</td>\n",
       "      <td>GT3</td>\n",
       "      <td>T</td>\n",
       "      <td>4</td>\n",
       "      <td>2</td>\n",
       "      <td>health</td>\n",
       "      <td>services</td>\n",
       "      <td>...</td>\n",
       "      <td>3</td>\n",
       "      <td>2</td>\n",
       "      <td>2</td>\n",
       "      <td>1</td>\n",
       "      <td>1</td>\n",
       "      <td>5</td>\n",
       "      <td>0</td>\n",
       "      <td>14</td>\n",
       "      <td>14</td>\n",
       "      <td>14</td>\n",
       "    </tr>\n",
       "    <tr>\n",
       "      <th>4</th>\n",
       "      <td>GP</td>\n",
       "      <td>F</td>\n",
       "      <td>16</td>\n",
       "      <td>U</td>\n",
       "      <td>GT3</td>\n",
       "      <td>T</td>\n",
       "      <td>3</td>\n",
       "      <td>3</td>\n",
       "      <td>other</td>\n",
       "      <td>other</td>\n",
       "      <td>...</td>\n",
       "      <td>4</td>\n",
       "      <td>3</td>\n",
       "      <td>2</td>\n",
       "      <td>1</td>\n",
       "      <td>2</td>\n",
       "      <td>5</td>\n",
       "      <td>0</td>\n",
       "      <td>11</td>\n",
       "      <td>13</td>\n",
       "      <td>13</td>\n",
       "    </tr>\n",
       "  </tbody>\n",
       "</table>\n",
       "<p>5 rows × 33 columns</p>\n",
       "</div>"
      ],
      "text/plain": [
       "  school sex  age address famsize Pstatus  Medu  Fedu     Mjob      Fjob  ...  \\\n",
       "0     GP   F   18       U     GT3       A     4     4  at_home   teacher  ...   \n",
       "1     GP   F   17       U     GT3       T     1     1  at_home     other  ...   \n",
       "2     GP   F   15       U     LE3       T     1     1  at_home     other  ...   \n",
       "3     GP   F   15       U     GT3       T     4     2   health  services  ...   \n",
       "4     GP   F   16       U     GT3       T     3     3    other     other  ...   \n",
       "\n",
       "  famrel freetime  goout  Dalc  Walc health absences  G1  G2  G3  \n",
       "0      4        3      4     1     1      3        4   0  11  11  \n",
       "1      5        3      3     1     1      3        2   9  11  11  \n",
       "2      4        3      2     2     3      3        6  12  13  12  \n",
       "3      3        2      2     1     1      5        0  14  14  14  \n",
       "4      4        3      2     1     2      5        0  11  13  13  \n",
       "\n",
       "[5 rows x 33 columns]"
      ]
     },
<<<<<<< HEAD
     "execution_count": 2,
=======
     "execution_count": 4,
>>>>>>> Rhyme
     "metadata": {},
     "output_type": "execute_result"
    }
   ],
   "source": [
    "df.head()"
   ]
  },
  {
   "cell_type": "markdown",
   "metadata": {},
   "source": [
    "### Project Objective"
   ]
  },
  {
   "cell_type": "code",
   "execution_count": null,
   "metadata": {},
   "outputs": [],
   "source": []
  },
  {
   "cell_type": "markdown",
   "metadata": {},
   "source": [
    "### Target Feature"
   ]
  },
  {
   "cell_type": "code",
   "execution_count": null,
   "metadata": {},
   "outputs": [],
   "source": []
  },
  {
   "cell_type": "markdown",
   "metadata": {},
   "source": [
    "### Descriptive Features"
   ]
  },
  {
   "cell_type": "markdown",
   "metadata": {},
   "source": [
    "The variable descriptions below are from the <code>student-por</code> file:\n",
    "\n",
    "- <code>school</code>- student's school (binary: 'GP' - Gabriel Pereira or 'MS' - Mousinho da Silveira)\n",
    "- <code>sex</code> - student's sex (binary: 'F' - female or 'M' - male)\n",
    "- <code>age</code> - student's age (numeric: from 15 to 22)\n",
    "- <code>address</code> - student's home address type (binary: 'U' - urban or 'R' - rural)\n",
    "- <code>famsize</code> - family size (binary: 'LE3' - less or equal to 3 or 'GT3' - greater than 3)\n",
    "- <code>Pstatus</code> - parent's cohabitation status (binary: 'T' - living together or 'A' - apart)\n",
    "- <code>Medu</code> - mother's education (numeric: 0 - none, 1 - primary education (4th grade), 2 - 5th to 9th grade, 3 - secondary education or 4 - higher education)\n",
    "- <code>Fedu</code> - father's education (numeric: 0 - none, 1 - primary education (4th grade), 2 - 5th to 9th grade, 3 - secondary education or 4 - higher education)\n",
    "- <code>Mjob</code> - mother's job (nominal: 'teacher', 'health' care related, civil 'services' (e.g. administrative or police), 'at_home' or 'other')\n",
    "- <code>Fjob</code> - father's job (nominal: 'teacher', 'health' care related, civil 'services' (e.g. administrative or police), 'at_home' or 'other')\n",
    "- <code>reason</code> - reason to choose this school (nominal: close to 'home', school 'reputation', 'course' preference or 'other')\n",
    "- <code>guardian</code> - student's guardian (nominal: 'mother', 'father' or 'other')\n",
    "- <code>traveltime</code> - home to school travel time (numeric: 1 - <15 min., 2 - 15 to 30 min., 3 - 30 min. to 1 hour, or 4 - >1 hour)\n",
    "- <code>studytime</code> - weekly study time (numeric: 1 - <2 hours, 2 - 2 to 5 hours, 3 - 5 to 10 hours, or 4 - >10 hours)\n",
    "- <code>failures</code> - number of past class failures (numeric: n if 1<=n<3, else 4)\n",
    "- <code>schoolsup</code> - extra educational support (binary: yes or no)\n",
    "- <code>famsup</code> - family educational support (binary: yes or no)\n",
    "- <code>paid</code> - extra paid classes within the course subject (Math or Portuguese) (binary: yes or no)\n",
    "- <code>activities</code> - extra-curricular activities (binary: yes or no)\n",
    "- <code>nursery</code> - attended nursery school (binary: yes or no)\n",
    "- <code>higher</code> - wants to take higher education (binary: yes or no)\n",
    "- <code>internet</code> - Internet access at home (binary: yes or no)\n",
    "- <code>romantic</code> - with a romantic relationship (binary: yes or no)\n",
    "- <code>famrel</code> - quality of family relationships (numeric: from 1 - very bad to 5 - excellent)\n",
    "- <code>freetime</code> - free time after school (numeric: from 1 - very low to 5 - very high)\n",
    "- <code>goout</code> - going out with friends (numeric: from 1 - very low to 5 - very high)\n",
    "- <code>Dalc</code> - workday alcohol consumption (numeric: from 1 - very low to 5 - very high)\n",
    "- <code>Walc</code> - weekend alcohol consumption (numeric: from 1 - very low to 5 - very high)\n",
    "- <code>health</code> - current health status (numeric: from 1 - very bad to 5 - very good)\n",
    "- <code>absences</code> - number of school absences (numeric: from 0 to 93) \n",
    "\n",
    "### these grades are related with the course subject, Math or Portuguese:\n",
    "- <code>G1</code> - first period grade (numeric: from 0 to 20)\n",
    "- <code>G2</code> - second period grade (numeric: from 0 to 20)\n",
    "- <code>G3</code> - final grade (numeric: from 0 to 20, output target)"
   ]
  },
  {
   "cell_type": "markdown",
   "metadata": {},
   "source": [
    "# Data Preparation"
   ]
  },
  {
   "cell_type": "markdown",
   "metadata": {},
   "source": [
    "## Preliminaries"
   ]
  },
  {
   "cell_type": "code",
<<<<<<< HEAD
   "execution_count": 3,
=======
   "execution_count": 5,
>>>>>>> Rhyme
   "metadata": {},
   "outputs": [],
   "source": [
    "# Importing modules\n",
    "import numpy as np\n",
    "import pandas as pd\n",
    "import matplotlib.pyplot as plt\n",
    "import seaborn as sns\n",
    "import statsmodels.api as sm\n",
    "import statsmodels.formula.api as smf\n",
    "import patsy\n",
    "import warnings\n",
    "###\n",
    "warnings.filterwarnings('ignore')\n",
    "###\n",
    "%matplotlib inline \n",
    "%config InlineBackend.figure_format = 'retina'\n",
    "plt.style.use(\"ggplot\")"
   ]
  },
  {
   "cell_type": "markdown",
   "metadata": {},
   "source": [
    "## Data Cleaning and Transformation"
   ]
  },
  {
   "cell_type": "code",
<<<<<<< HEAD
   "execution_count": 4,
=======
   "execution_count": 6,
>>>>>>> Rhyme
   "metadata": {},
   "outputs": [
    {
     "name": "stdout",
     "output_type": "stream",
     "text": [
      "Shape of the dataset is (649, 33) \n",
      "\n",
      "Data types are below where 'object' indicates a string type: \n",
      "school        object\n",
      "sex           object\n",
      "age            int64\n",
      "address       object\n",
      "famsize       object\n",
      "Pstatus       object\n",
      "Medu           int64\n",
      "Fedu           int64\n",
      "Mjob          object\n",
      "Fjob          object\n",
      "reason        object\n",
      "guardian      object\n",
      "traveltime     int64\n",
      "studytime      int64\n",
      "failures       int64\n",
      "schoolsup     object\n",
      "famsup        object\n",
      "paid          object\n",
      "activities    object\n",
      "nursery       object\n",
      "higher        object\n",
      "internet      object\n",
      "romantic      object\n",
      "famrel         int64\n",
      "freetime       int64\n",
      "goout          int64\n",
      "Dalc           int64\n",
      "Walc           int64\n",
      "health         int64\n",
      "absences       int64\n",
      "G1             int64\n",
      "G2             int64\n",
      "G3             int64\n",
      "dtype: object\n"
     ]
    }
   ],
   "source": [
    "print(f\"Shape of the dataset is {df.shape} \\n\")\n",
    "print(f\"Data types are below where 'object' indicates a string type: \")\n",
    "print(df.dtypes)\n",
    "\n"
   ]
  },
  {
   "cell_type": "markdown",
   "metadata": {},
   "source": [
    "## Checking for Missing Values"
   ]
  },
  {
   "cell_type": "code",
<<<<<<< HEAD
   "execution_count": 6,
=======
   "execution_count": 7,
>>>>>>> Rhyme
   "metadata": {},
   "outputs": [
    {
     "name": "stdout",
     "output_type": "stream",
     "text": [
      "\n",
      "Number of missing values for each feature:\n",
      "school        0\n",
      "sex           0\n",
      "age           0\n",
      "address       0\n",
      "famsize       0\n",
      "Pstatus       0\n",
      "Medu          0\n",
      "Fedu          0\n",
      "Mjob          0\n",
      "Fjob          0\n",
      "reason        0\n",
      "guardian      0\n",
      "traveltime    0\n",
      "studytime     0\n",
      "failures      0\n",
      "schoolsup     0\n",
      "famsup        0\n",
      "paid          0\n",
      "activities    0\n",
      "nursery       0\n",
      "higher        0\n",
      "internet      0\n",
      "romantic      0\n",
      "famrel        0\n",
      "freetime      0\n",
      "goout         0\n",
      "Dalc          0\n",
      "Walc          0\n",
      "health        0\n",
      "absences      0\n",
      "G1            0\n",
      "G2            0\n",
      "G3            0\n",
      "dtype: int64\n"
     ]
    }
   ],
   "source": [
    "print(f\"\\nNumber of missing values for each feature:\")\n",
    "print(df.isnull().sum())"
   ]
  },
  {
   "cell_type": "markdown",
   "metadata": {},
   "source": [
    "No missing attributes for any of the features"
   ]
  },
  {
   "cell_type": "markdown",
   "metadata": {},
   "source": [
    "## Summary Statistics"
<<<<<<< HEAD
   ]
  },
  {
   "cell_type": "code",
   "execution_count": 9,
   "metadata": {},
   "outputs": [
    {
     "data": {
      "text/html": [
       "<b>Table 1: Summary of continuous features</b>"
      ],
      "text/plain": [
       "<IPython.core.display.HTML object>"
      ]
     },
     "metadata": {},
     "output_type": "display_data"
    },
    {
     "data": {
      "text/html": [
       "<div>\n",
       "<style scoped>\n",
       "    .dataframe tbody tr th:only-of-type {\n",
       "        vertical-align: middle;\n",
       "    }\n",
       "\n",
       "    .dataframe tbody tr th {\n",
       "        vertical-align: top;\n",
       "    }\n",
       "\n",
       "    .dataframe thead th {\n",
       "        text-align: right;\n",
       "    }\n",
       "</style>\n",
       "<table border=\"1\" class=\"dataframe\">\n",
       "  <thead>\n",
       "    <tr style=\"text-align: right;\">\n",
       "      <th></th>\n",
       "      <th>age</th>\n",
       "      <th>Medu</th>\n",
       "      <th>Fedu</th>\n",
       "      <th>traveltime</th>\n",
       "      <th>studytime</th>\n",
       "      <th>failures</th>\n",
       "      <th>famrel</th>\n",
       "      <th>freetime</th>\n",
       "      <th>goout</th>\n",
       "      <th>Dalc</th>\n",
       "      <th>Walc</th>\n",
       "      <th>health</th>\n",
       "      <th>absences</th>\n",
       "      <th>G1</th>\n",
       "      <th>G2</th>\n",
       "      <th>G3</th>\n",
       "    </tr>\n",
       "  </thead>\n",
       "  <tbody>\n",
       "    <tr>\n",
       "      <th>count</th>\n",
       "      <td>649.000000</td>\n",
       "      <td>649.000000</td>\n",
       "      <td>649.000000</td>\n",
       "      <td>649.000000</td>\n",
       "      <td>649.000000</td>\n",
       "      <td>649.000000</td>\n",
       "      <td>649.000000</td>\n",
       "      <td>649.000000</td>\n",
       "      <td>649.000000</td>\n",
       "      <td>649.000000</td>\n",
       "      <td>649.000000</td>\n",
       "      <td>649.000000</td>\n",
       "      <td>649.000000</td>\n",
       "      <td>649.000000</td>\n",
       "      <td>649.000000</td>\n",
       "      <td>649.000000</td>\n",
       "    </tr>\n",
       "    <tr>\n",
       "      <th>mean</th>\n",
       "      <td>16.744222</td>\n",
       "      <td>2.514638</td>\n",
       "      <td>2.306626</td>\n",
       "      <td>1.568567</td>\n",
       "      <td>1.930663</td>\n",
       "      <td>0.221880</td>\n",
       "      <td>3.930663</td>\n",
       "      <td>3.180277</td>\n",
       "      <td>3.184900</td>\n",
       "      <td>1.502311</td>\n",
       "      <td>2.280431</td>\n",
       "      <td>3.536210</td>\n",
       "      <td>3.659476</td>\n",
       "      <td>11.399076</td>\n",
       "      <td>11.570108</td>\n",
       "      <td>11.906009</td>\n",
       "    </tr>\n",
       "    <tr>\n",
       "      <th>std</th>\n",
       "      <td>1.218138</td>\n",
       "      <td>1.134552</td>\n",
       "      <td>1.099931</td>\n",
       "      <td>0.748660</td>\n",
       "      <td>0.829510</td>\n",
       "      <td>0.593235</td>\n",
       "      <td>0.955717</td>\n",
       "      <td>1.051093</td>\n",
       "      <td>1.175766</td>\n",
       "      <td>0.924834</td>\n",
       "      <td>1.284380</td>\n",
       "      <td>1.446259</td>\n",
       "      <td>4.640759</td>\n",
       "      <td>2.745265</td>\n",
       "      <td>2.913639</td>\n",
       "      <td>3.230656</td>\n",
       "    </tr>\n",
       "    <tr>\n",
       "      <th>min</th>\n",
       "      <td>15.000000</td>\n",
       "      <td>0.000000</td>\n",
       "      <td>0.000000</td>\n",
       "      <td>1.000000</td>\n",
       "      <td>1.000000</td>\n",
       "      <td>0.000000</td>\n",
       "      <td>1.000000</td>\n",
       "      <td>1.000000</td>\n",
       "      <td>1.000000</td>\n",
       "      <td>1.000000</td>\n",
       "      <td>1.000000</td>\n",
       "      <td>1.000000</td>\n",
       "      <td>0.000000</td>\n",
       "      <td>0.000000</td>\n",
       "      <td>0.000000</td>\n",
       "      <td>0.000000</td>\n",
       "    </tr>\n",
       "    <tr>\n",
       "      <th>25%</th>\n",
       "      <td>16.000000</td>\n",
       "      <td>2.000000</td>\n",
       "      <td>1.000000</td>\n",
       "      <td>1.000000</td>\n",
       "      <td>1.000000</td>\n",
       "      <td>0.000000</td>\n",
       "      <td>4.000000</td>\n",
       "      <td>3.000000</td>\n",
       "      <td>2.000000</td>\n",
       "      <td>1.000000</td>\n",
       "      <td>1.000000</td>\n",
       "      <td>2.000000</td>\n",
       "      <td>0.000000</td>\n",
       "      <td>10.000000</td>\n",
       "      <td>10.000000</td>\n",
       "      <td>10.000000</td>\n",
       "    </tr>\n",
       "    <tr>\n",
       "      <th>50%</th>\n",
       "      <td>17.000000</td>\n",
       "      <td>2.000000</td>\n",
       "      <td>2.000000</td>\n",
       "      <td>1.000000</td>\n",
       "      <td>2.000000</td>\n",
       "      <td>0.000000</td>\n",
       "      <td>4.000000</td>\n",
       "      <td>3.000000</td>\n",
       "      <td>3.000000</td>\n",
       "      <td>1.000000</td>\n",
       "      <td>2.000000</td>\n",
       "      <td>4.000000</td>\n",
       "      <td>2.000000</td>\n",
       "      <td>11.000000</td>\n",
       "      <td>11.000000</td>\n",
       "      <td>12.000000</td>\n",
       "    </tr>\n",
       "    <tr>\n",
       "      <th>75%</th>\n",
       "      <td>18.000000</td>\n",
       "      <td>4.000000</td>\n",
       "      <td>3.000000</td>\n",
       "      <td>2.000000</td>\n",
       "      <td>2.000000</td>\n",
       "      <td>0.000000</td>\n",
       "      <td>5.000000</td>\n",
       "      <td>4.000000</td>\n",
       "      <td>4.000000</td>\n",
       "      <td>2.000000</td>\n",
       "      <td>3.000000</td>\n",
       "      <td>5.000000</td>\n",
       "      <td>6.000000</td>\n",
       "      <td>13.000000</td>\n",
       "      <td>13.000000</td>\n",
       "      <td>14.000000</td>\n",
       "    </tr>\n",
       "    <tr>\n",
       "      <th>max</th>\n",
       "      <td>22.000000</td>\n",
       "      <td>4.000000</td>\n",
       "      <td>4.000000</td>\n",
       "      <td>4.000000</td>\n",
       "      <td>4.000000</td>\n",
       "      <td>3.000000</td>\n",
       "      <td>5.000000</td>\n",
       "      <td>5.000000</td>\n",
       "      <td>5.000000</td>\n",
       "      <td>5.000000</td>\n",
       "      <td>5.000000</td>\n",
       "      <td>5.000000</td>\n",
       "      <td>32.000000</td>\n",
       "      <td>19.000000</td>\n",
       "      <td>19.000000</td>\n",
       "      <td>19.000000</td>\n",
       "    </tr>\n",
       "  </tbody>\n",
       "</table>\n",
       "</div>"
      ],
      "text/plain": [
       "              age        Medu        Fedu  traveltime   studytime    failures  \\\n",
       "count  649.000000  649.000000  649.000000  649.000000  649.000000  649.000000   \n",
       "mean    16.744222    2.514638    2.306626    1.568567    1.930663    0.221880   \n",
       "std      1.218138    1.134552    1.099931    0.748660    0.829510    0.593235   \n",
       "min     15.000000    0.000000    0.000000    1.000000    1.000000    0.000000   \n",
       "25%     16.000000    2.000000    1.000000    1.000000    1.000000    0.000000   \n",
       "50%     17.000000    2.000000    2.000000    1.000000    2.000000    0.000000   \n",
       "75%     18.000000    4.000000    3.000000    2.000000    2.000000    0.000000   \n",
       "max     22.000000    4.000000    4.000000    4.000000    4.000000    3.000000   \n",
       "\n",
       "           famrel    freetime       goout        Dalc        Walc      health  \\\n",
       "count  649.000000  649.000000  649.000000  649.000000  649.000000  649.000000   \n",
       "mean     3.930663    3.180277    3.184900    1.502311    2.280431    3.536210   \n",
       "std      0.955717    1.051093    1.175766    0.924834    1.284380    1.446259   \n",
       "min      1.000000    1.000000    1.000000    1.000000    1.000000    1.000000   \n",
       "25%      4.000000    3.000000    2.000000    1.000000    1.000000    2.000000   \n",
       "50%      4.000000    3.000000    3.000000    1.000000    2.000000    4.000000   \n",
       "75%      5.000000    4.000000    4.000000    2.000000    3.000000    5.000000   \n",
       "max      5.000000    5.000000    5.000000    5.000000    5.000000    5.000000   \n",
       "\n",
       "         absences          G1          G2          G3  \n",
       "count  649.000000  649.000000  649.000000  649.000000  \n",
       "mean     3.659476   11.399076   11.570108   11.906009  \n",
       "std      4.640759    2.745265    2.913639    3.230656  \n",
       "min      0.000000    0.000000    0.000000    0.000000  \n",
       "25%      0.000000   10.000000   10.000000   10.000000  \n",
       "50%      2.000000   11.000000   11.000000   12.000000  \n",
       "75%      6.000000   13.000000   13.000000   14.000000  \n",
       "max     32.000000   19.000000   19.000000   19.000000  "
      ]
     },
     "execution_count": 9,
     "metadata": {},
     "output_type": "execute_result"
    }
   ],
   "source": [
    "from IPython.display import display, HTML\n",
    "display(HTML('<b>Table 1: Summary of continuous features</b>'))\n",
    "df.describe(include='int64')"
=======
>>>>>>> Rhyme
   ]
  },
  {
   "cell_type": "code",
<<<<<<< HEAD
   "execution_count": 10,
=======
   "execution_count": 8,
>>>>>>> Rhyme
   "metadata": {},
   "outputs": [
    {
     "data": {
      "text/html": [
<<<<<<< HEAD
=======
       "<b>Table 1: Summary of continuous features</b>"
      ],
      "text/plain": [
       "<IPython.core.display.HTML object>"
      ]
     },
     "metadata": {},
     "output_type": "display_data"
    },
    {
     "data": {
      "text/html": [
       "<div>\n",
       "<style scoped>\n",
       "    .dataframe tbody tr th:only-of-type {\n",
       "        vertical-align: middle;\n",
       "    }\n",
       "\n",
       "    .dataframe tbody tr th {\n",
       "        vertical-align: top;\n",
       "    }\n",
       "\n",
       "    .dataframe thead th {\n",
       "        text-align: right;\n",
       "    }\n",
       "</style>\n",
       "<table border=\"1\" class=\"dataframe\">\n",
       "  <thead>\n",
       "    <tr style=\"text-align: right;\">\n",
       "      <th></th>\n",
       "      <th>age</th>\n",
       "      <th>Medu</th>\n",
       "      <th>Fedu</th>\n",
       "      <th>traveltime</th>\n",
       "      <th>studytime</th>\n",
       "      <th>failures</th>\n",
       "      <th>famrel</th>\n",
       "      <th>freetime</th>\n",
       "      <th>goout</th>\n",
       "      <th>Dalc</th>\n",
       "      <th>Walc</th>\n",
       "      <th>health</th>\n",
       "      <th>absences</th>\n",
       "      <th>G1</th>\n",
       "      <th>G2</th>\n",
       "      <th>G3</th>\n",
       "    </tr>\n",
       "  </thead>\n",
       "  <tbody>\n",
       "    <tr>\n",
       "      <th>count</th>\n",
       "      <td>649.000000</td>\n",
       "      <td>649.000000</td>\n",
       "      <td>649.000000</td>\n",
       "      <td>649.000000</td>\n",
       "      <td>649.000000</td>\n",
       "      <td>649.000000</td>\n",
       "      <td>649.000000</td>\n",
       "      <td>649.000000</td>\n",
       "      <td>649.000000</td>\n",
       "      <td>649.000000</td>\n",
       "      <td>649.000000</td>\n",
       "      <td>649.000000</td>\n",
       "      <td>649.000000</td>\n",
       "      <td>649.000000</td>\n",
       "      <td>649.000000</td>\n",
       "      <td>649.000000</td>\n",
       "    </tr>\n",
       "    <tr>\n",
       "      <th>mean</th>\n",
       "      <td>16.744222</td>\n",
       "      <td>2.514638</td>\n",
       "      <td>2.306626</td>\n",
       "      <td>1.568567</td>\n",
       "      <td>1.930663</td>\n",
       "      <td>0.221880</td>\n",
       "      <td>3.930663</td>\n",
       "      <td>3.180277</td>\n",
       "      <td>3.184900</td>\n",
       "      <td>1.502311</td>\n",
       "      <td>2.280431</td>\n",
       "      <td>3.536210</td>\n",
       "      <td>3.659476</td>\n",
       "      <td>11.399076</td>\n",
       "      <td>11.570108</td>\n",
       "      <td>11.906009</td>\n",
       "    </tr>\n",
       "    <tr>\n",
       "      <th>std</th>\n",
       "      <td>1.218138</td>\n",
       "      <td>1.134552</td>\n",
       "      <td>1.099931</td>\n",
       "      <td>0.748660</td>\n",
       "      <td>0.829510</td>\n",
       "      <td>0.593235</td>\n",
       "      <td>0.955717</td>\n",
       "      <td>1.051093</td>\n",
       "      <td>1.175766</td>\n",
       "      <td>0.924834</td>\n",
       "      <td>1.284380</td>\n",
       "      <td>1.446259</td>\n",
       "      <td>4.640759</td>\n",
       "      <td>2.745265</td>\n",
       "      <td>2.913639</td>\n",
       "      <td>3.230656</td>\n",
       "    </tr>\n",
       "    <tr>\n",
       "      <th>min</th>\n",
       "      <td>15.000000</td>\n",
       "      <td>0.000000</td>\n",
       "      <td>0.000000</td>\n",
       "      <td>1.000000</td>\n",
       "      <td>1.000000</td>\n",
       "      <td>0.000000</td>\n",
       "      <td>1.000000</td>\n",
       "      <td>1.000000</td>\n",
       "      <td>1.000000</td>\n",
       "      <td>1.000000</td>\n",
       "      <td>1.000000</td>\n",
       "      <td>1.000000</td>\n",
       "      <td>0.000000</td>\n",
       "      <td>0.000000</td>\n",
       "      <td>0.000000</td>\n",
       "      <td>0.000000</td>\n",
       "    </tr>\n",
       "    <tr>\n",
       "      <th>25%</th>\n",
       "      <td>16.000000</td>\n",
       "      <td>2.000000</td>\n",
       "      <td>1.000000</td>\n",
       "      <td>1.000000</td>\n",
       "      <td>1.000000</td>\n",
       "      <td>0.000000</td>\n",
       "      <td>4.000000</td>\n",
       "      <td>3.000000</td>\n",
       "      <td>2.000000</td>\n",
       "      <td>1.000000</td>\n",
       "      <td>1.000000</td>\n",
       "      <td>2.000000</td>\n",
       "      <td>0.000000</td>\n",
       "      <td>10.000000</td>\n",
       "      <td>10.000000</td>\n",
       "      <td>10.000000</td>\n",
       "    </tr>\n",
       "    <tr>\n",
       "      <th>50%</th>\n",
       "      <td>17.000000</td>\n",
       "      <td>2.000000</td>\n",
       "      <td>2.000000</td>\n",
       "      <td>1.000000</td>\n",
       "      <td>2.000000</td>\n",
       "      <td>0.000000</td>\n",
       "      <td>4.000000</td>\n",
       "      <td>3.000000</td>\n",
       "      <td>3.000000</td>\n",
       "      <td>1.000000</td>\n",
       "      <td>2.000000</td>\n",
       "      <td>4.000000</td>\n",
       "      <td>2.000000</td>\n",
       "      <td>11.000000</td>\n",
       "      <td>11.000000</td>\n",
       "      <td>12.000000</td>\n",
       "    </tr>\n",
       "    <tr>\n",
       "      <th>75%</th>\n",
       "      <td>18.000000</td>\n",
       "      <td>4.000000</td>\n",
       "      <td>3.000000</td>\n",
       "      <td>2.000000</td>\n",
       "      <td>2.000000</td>\n",
       "      <td>0.000000</td>\n",
       "      <td>5.000000</td>\n",
       "      <td>4.000000</td>\n",
       "      <td>4.000000</td>\n",
       "      <td>2.000000</td>\n",
       "      <td>3.000000</td>\n",
       "      <td>5.000000</td>\n",
       "      <td>6.000000</td>\n",
       "      <td>13.000000</td>\n",
       "      <td>13.000000</td>\n",
       "      <td>14.000000</td>\n",
       "    </tr>\n",
       "    <tr>\n",
       "      <th>max</th>\n",
       "      <td>22.000000</td>\n",
       "      <td>4.000000</td>\n",
       "      <td>4.000000</td>\n",
       "      <td>4.000000</td>\n",
       "      <td>4.000000</td>\n",
       "      <td>3.000000</td>\n",
       "      <td>5.000000</td>\n",
       "      <td>5.000000</td>\n",
       "      <td>5.000000</td>\n",
       "      <td>5.000000</td>\n",
       "      <td>5.000000</td>\n",
       "      <td>5.000000</td>\n",
       "      <td>32.000000</td>\n",
       "      <td>19.000000</td>\n",
       "      <td>19.000000</td>\n",
       "      <td>19.000000</td>\n",
       "    </tr>\n",
       "  </tbody>\n",
       "</table>\n",
       "</div>"
      ],
      "text/plain": [
       "              age        Medu        Fedu  traveltime   studytime    failures  \\\n",
       "count  649.000000  649.000000  649.000000  649.000000  649.000000  649.000000   \n",
       "mean    16.744222    2.514638    2.306626    1.568567    1.930663    0.221880   \n",
       "std      1.218138    1.134552    1.099931    0.748660    0.829510    0.593235   \n",
       "min     15.000000    0.000000    0.000000    1.000000    1.000000    0.000000   \n",
       "25%     16.000000    2.000000    1.000000    1.000000    1.000000    0.000000   \n",
       "50%     17.000000    2.000000    2.000000    1.000000    2.000000    0.000000   \n",
       "75%     18.000000    4.000000    3.000000    2.000000    2.000000    0.000000   \n",
       "max     22.000000    4.000000    4.000000    4.000000    4.000000    3.000000   \n",
       "\n",
       "           famrel    freetime       goout        Dalc        Walc      health  \\\n",
       "count  649.000000  649.000000  649.000000  649.000000  649.000000  649.000000   \n",
       "mean     3.930663    3.180277    3.184900    1.502311    2.280431    3.536210   \n",
       "std      0.955717    1.051093    1.175766    0.924834    1.284380    1.446259   \n",
       "min      1.000000    1.000000    1.000000    1.000000    1.000000    1.000000   \n",
       "25%      4.000000    3.000000    2.000000    1.000000    1.000000    2.000000   \n",
       "50%      4.000000    3.000000    3.000000    1.000000    2.000000    4.000000   \n",
       "75%      5.000000    4.000000    4.000000    2.000000    3.000000    5.000000   \n",
       "max      5.000000    5.000000    5.000000    5.000000    5.000000    5.000000   \n",
       "\n",
       "         absences          G1          G2          G3  \n",
       "count  649.000000  649.000000  649.000000  649.000000  \n",
       "mean     3.659476   11.399076   11.570108   11.906009  \n",
       "std      4.640759    2.745265    2.913639    3.230656  \n",
       "min      0.000000    0.000000    0.000000    0.000000  \n",
       "25%      0.000000   10.000000   10.000000   10.000000  \n",
       "50%      2.000000   11.000000   11.000000   12.000000  \n",
       "75%      6.000000   13.000000   13.000000   14.000000  \n",
       "max     32.000000   19.000000   19.000000   19.000000  "
      ]
     },
     "execution_count": 8,
     "metadata": {},
     "output_type": "execute_result"
    }
   ],
   "source": [
    "from IPython.display import display, HTML\n",
    "display(HTML('<b>Table 1: Summary of continuous features</b>'))\n",
    "df.describe(include='int64')"
   ]
  },
  {
   "cell_type": "code",
   "execution_count": 9,
   "metadata": {},
   "outputs": [
    {
     "data": {
      "text/html": [
>>>>>>> Rhyme
       "<b>Table 2: Summary of categorical features</b>"
      ],
      "text/plain": [
       "<IPython.core.display.HTML object>"
      ]
     },
     "metadata": {},
     "output_type": "display_data"
    },
    {
     "data": {
      "text/html": [
       "<div>\n",
       "<style scoped>\n",
       "    .dataframe tbody tr th:only-of-type {\n",
       "        vertical-align: middle;\n",
       "    }\n",
       "\n",
       "    .dataframe tbody tr th {\n",
       "        vertical-align: top;\n",
       "    }\n",
       "\n",
       "    .dataframe thead th {\n",
       "        text-align: right;\n",
       "    }\n",
       "</style>\n",
       "<table border=\"1\" class=\"dataframe\">\n",
       "  <thead>\n",
       "    <tr style=\"text-align: right;\">\n",
       "      <th></th>\n",
       "      <th>school</th>\n",
       "      <th>sex</th>\n",
       "      <th>address</th>\n",
       "      <th>famsize</th>\n",
       "      <th>Pstatus</th>\n",
       "      <th>Mjob</th>\n",
       "      <th>Fjob</th>\n",
       "      <th>reason</th>\n",
       "      <th>guardian</th>\n",
       "      <th>schoolsup</th>\n",
       "      <th>famsup</th>\n",
       "      <th>paid</th>\n",
       "      <th>activities</th>\n",
       "      <th>nursery</th>\n",
       "      <th>higher</th>\n",
       "      <th>internet</th>\n",
       "      <th>romantic</th>\n",
       "    </tr>\n",
       "  </thead>\n",
       "  <tbody>\n",
       "    <tr>\n",
       "      <th>count</th>\n",
       "      <td>649</td>\n",
       "      <td>649</td>\n",
       "      <td>649</td>\n",
       "      <td>649</td>\n",
       "      <td>649</td>\n",
       "      <td>649</td>\n",
       "      <td>649</td>\n",
       "      <td>649</td>\n",
       "      <td>649</td>\n",
       "      <td>649</td>\n",
       "      <td>649</td>\n",
       "      <td>649</td>\n",
       "      <td>649</td>\n",
       "      <td>649</td>\n",
       "      <td>649</td>\n",
       "      <td>649</td>\n",
       "      <td>649</td>\n",
       "    </tr>\n",
       "    <tr>\n",
       "      <th>unique</th>\n",
       "      <td>2</td>\n",
       "      <td>2</td>\n",
       "      <td>2</td>\n",
       "      <td>2</td>\n",
       "      <td>2</td>\n",
       "      <td>5</td>\n",
       "      <td>5</td>\n",
       "      <td>4</td>\n",
       "      <td>3</td>\n",
       "      <td>2</td>\n",
       "      <td>2</td>\n",
       "      <td>2</td>\n",
       "      <td>2</td>\n",
       "      <td>2</td>\n",
       "      <td>2</td>\n",
       "      <td>2</td>\n",
       "      <td>2</td>\n",
       "    </tr>\n",
       "    <tr>\n",
       "      <th>top</th>\n",
       "      <td>GP</td>\n",
       "      <td>F</td>\n",
       "      <td>U</td>\n",
       "      <td>GT3</td>\n",
       "      <td>T</td>\n",
       "      <td>other</td>\n",
       "      <td>other</td>\n",
       "      <td>course</td>\n",
       "      <td>mother</td>\n",
       "      <td>no</td>\n",
       "      <td>yes</td>\n",
       "      <td>no</td>\n",
       "      <td>no</td>\n",
       "      <td>yes</td>\n",
       "      <td>yes</td>\n",
       "      <td>yes</td>\n",
       "      <td>no</td>\n",
       "    </tr>\n",
       "    <tr>\n",
       "      <th>freq</th>\n",
       "      <td>423</td>\n",
       "      <td>383</td>\n",
       "      <td>452</td>\n",
       "      <td>457</td>\n",
       "      <td>569</td>\n",
       "      <td>258</td>\n",
       "      <td>367</td>\n",
       "      <td>285</td>\n",
       "      <td>455</td>\n",
       "      <td>581</td>\n",
       "      <td>398</td>\n",
       "      <td>610</td>\n",
       "      <td>334</td>\n",
       "      <td>521</td>\n",
       "      <td>580</td>\n",
       "      <td>498</td>\n",
       "      <td>410</td>\n",
       "    </tr>\n",
       "  </tbody>\n",
       "</table>\n",
       "</div>"
      ],
      "text/plain": [
       "       school  sex address famsize Pstatus   Mjob   Fjob  reason guardian  \\\n",
       "count     649  649     649     649     649    649    649     649      649   \n",
       "unique      2    2       2       2       2      5      5       4        3   \n",
       "top        GP    F       U     GT3       T  other  other  course   mother   \n",
       "freq      423  383     452     457     569    258    367     285      455   \n",
       "\n",
       "       schoolsup famsup paid activities nursery higher internet romantic  \n",
       "count        649    649  649        649     649    649      649      649  \n",
       "unique         2      2    2          2       2      2        2        2  \n",
       "top           no    yes   no         no     yes    yes      yes       no  \n",
       "freq         581    398  610        334     521    580      498      410  "
      ]
     },
<<<<<<< HEAD
     "execution_count": 10,
=======
     "execution_count": 9,
>>>>>>> Rhyme
     "metadata": {},
     "output_type": "execute_result"
    }
   ],
   "source": [
    "display(HTML('<b>Table 2: Summary of categorical features</b>'))\n",
    "df.describe(include='object')"
<<<<<<< HEAD
=======
   ]
  },
  {
   "cell_type": "code",
   "execution_count": null,
   "metadata": {},
   "outputs": [],
   "source": []
  },
  {
   "cell_type": "markdown",
   "metadata": {},
   "source": [
    "# Data Exploration"
   ]
  },
  {
   "cell_type": "markdown",
   "metadata": {},
   "source": [
    "We can now consider our dataset 'clean' & ready for visualisation & data modelling."
   ]
  },
  {
   "cell_type": "markdown",
   "metadata": {},
   "source": [
    "## Univariate Visualisation"
   ]
  },
  {
   "cell_type": "markdown",
   "metadata": {},
   "source": [
    "Lets get a histogram of Study time & Travel times."
   ]
  },
  {
   "cell_type": "code",
   "execution_count": 27,
   "metadata": {},
   "outputs": [
    {
     "data": {
      "image/png": "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\n",
      "text/plain": [
       "<Figure size 432x288 with 1 Axes>"
      ]
     },
     "metadata": {
      "image/png": {
       "height": 298,
       "width": 424
      }
     },
     "output_type": "display_data"
    }
   ],
   "source": [
    "# df['studytime'].value_counts().plot(kind = 'bar', color = 'green', title = 'Study time')\n",
    "# plt.show();\n",
    "\n",
    "ax = df['studytime'].value_counts().plot(kind = 'bar', color = 'green')\n",
    "ax.set_xticklabels(ax.get_xticklabels(), rotation = 90)\n",
    "plt.tight_layout()\n",
    "plt.title('Figure 1: Bar Chart of Study time', fontsize = 15)\n",
    "plt.show();"
   ]
  },
  {
   "cell_type": "code",
   "execution_count": 28,
   "metadata": {},
   "outputs": [
    {
     "data": {
      "image/png": "iVBORw0KGgoAAAANSUhEUgAAA1EAAAJUCAYAAAD0P6ytAAAABHNCSVQICAgIfAhkiAAAAAlwSFlzAAAWJQAAFiUBSVIk8AAAADh0RVh0U29mdHdhcmUAbWF0cGxvdGxpYiB2ZXJzaW9uMy4yLjIsIGh0dHA6Ly9tYXRwbG90bGliLm9yZy+WH4yJAAAgAElEQVR4nOzde1xUdeL/8TcISgaigAOiieBXyUu7onnXVMwkNTL9rlqbl6V27bdltu66WmtqtubDdnPb765tfdvKG9XWrle8IKlYm/eETE1l0bwASoaEqAjo+f3hl7OMDMwcGBxcXs/Hg8djPOdzPudzznxmnPd8zvmMl2EYhgAAAAAALvH2dAMAAAAA4HZCiAIAAAAACwhRAAAAAGABIQoAAAAALCBEAQAAAIAFhCgAAAAAsIAQBQAAAAAWEKIAAAAAwAJCFAAAAABYQIgCAAAAAAsIUQAAAABgASEKAAAAACwgRAEAAACABYQo4Bbx8vKSl5eXBg4c6OmmALcVXju3Tl5enn7zm98oJiZGAQEB8vb2lpeXl5o2berpptU7qampZt+fO3fuLdvv3Llzzf2mpqbesv0CtxsfTzcAuJ14eXlZKj916lS9/vrrtdQalDl69Kg2bdqkzz77TAcOHFB2drZKSkrUtGlTde7cWQ888ICeeOIJhYSE3NJ2TZo0SUuXLq10vZ+fn4KCgtSxY0cNGzZMkyZNUrNmzW5hC2tfSUmJ1q5dq5SUFO3atUvnzp3Td999pzvuuEMhISH64Q9/qP79+2vcuHFq0aKFp5tba/Lz8833gi5dumjkyJEeblFF586dU69evfTNN99Ua/vU1FQNGjTILW3Ztm0bodlN0tPTtXr1aknSyJEj1aVLFw+3CPjPQIgCcFuLiYlRenq6w3W5ubnaunWrtm7dqldeeUWLFy/W448/fotbWLmioiJlZ2crOztbn3zyiV555RUtX75ccXFxnm6aWyQmJurFF1/UiRMnKqwrKSlRQUGBjh8/rlWrVmn69Ol69NFHNX/+fLVu3doDra1d+fn5eumllyRJEydOrJMhav78+WaA6tu3rx5//HGFhobKy8tLvr6+nm0cqi09Pd3se23atCFEAW5CiAKqadWqVU7LtG3b1nxsGEZtNqfe+uqrryRJ3t7e6tevnwYMGKCoqCg1btxYJ06c0Pvvv68DBw6ooKBAEyZMkCSPBKkpU6YoNjbWbtmlS5d05MgRvf/++zp+/LjOnz+vhx9+WPv27dM999xzy9voLqWlpXr22Wf1l7/8xVwWHh6uuLg4de3aVSEhISoqKlJOTo62b9+u1NRUFRUVacWKFWrQoIGWLFniucbXYxs2bJAkNWvWTJs3b1bjxo0tbd+5c+cq3xc//PBD/e1vf5MkjR07VuPGjauyLnjG3Llzb+nlg8DtihAFVFNd/Ca5PmrSpIn+3//7f3rqqad01113VVg/ffp0TZ8+XYsWLZJhGJoyZYqGDRumoKCgW9rOrl27VtpnZs2apZEjR2rTpk0qLi7Wb3/7W/PD5u1o6tSpZoDy8/PTwoUL9dRTT6lhw4YVys6cOVN5eXn63e9+pz/+8Y+3uqko5/Tp05Kk6OhoywFKkkJCQqp8Xyw/Ynz33XfzHgrgtsbEEgBua5mZmZo/f77DACXdGKH6/e9/r+7du0u6cVnVmjVrbmUTnWrUqJEWLlxo/nv79u0ebE3N/OMf/9Abb7wh6UaASklJ0bPPPuswQJUJCgrSggULtHPnTv3Xf/3XrWoqblJcXCzpRn8EAFSNEAXcIq7OMHbx4kXNmzdPXbp0UUBAgAIDA/XDH/5QL730kr777jtJ0sCBA836HHG23kpZRzM1bdmyRY8++qgiIyPl5+cnLy8vhzejHzp0SNOmTVOXLl0UFBSkRo0aqWXLloqPj1diYqKuX7/utH3OuDIRg5eXl0aPHm3+u+wSwLrk7rvvNh9///33lZYrKChQYmKinnjiCcXExKhp06by9fVVUFCQunbtql/+8pfKzMx0ur82bdrIy8tLbdq0kXTj/qz/+Z//Ub9+/RQaGipvb2/LN/YbhqFZs2aZ/54/f7769evn8vY//OEP7bavzOXLl/X73/9e9957r5o1a6Y777xTnTp10vPPP68LFy5UuW1paamSk5P1y1/+Uv369ZPNZlPDhg0VEBCg9u3ba9KkSfr000+dtmHSpEnm66Ks769cuVLx8fFq3bq1GjZsaK7z8vJSZGSkue3SpUvNbcv/VXdCh7Jz8oc//EGDBg1SWFiYGjVqJJvNpn79+mnBggWV9qnyr+8y27dvr9C2WzVLW3Xeb2r6nK5du9bc5y9/+UuX2jlt2jRzm3Xr1lVabtOmTZo0aZLatWungIAANW7cWG3bttWkSZP0z3/+06V9VdeSJUvk5eWln/zkJ+ayn/zkJxWe27L3gDLOZucr69NeXl6aNGmSJCkrK0szZsxQx44d5e/vL5vNpsGDB2v9+vUVtv/nP/+psWPHms9neHi4JkyYoH/9618uH5snzytgMgC4TJL5V91tBwwYUGmZr776ymjVqpXdfsr/tW7d2vjyyy+NAQMGVNkOZ+utlJ0zZ465fuvWrcbTTz/tsG0nTpwwtykpKTGeffZZw9vbu9JjkWT06NHDyMnJcdpGd1i8eLG536eeeqrScuXPx3vvvVejfU6cONHlurKyssyy7du3d1jm6tWrRqNGjao8p5IMHx8f489//nOV+4uIiDAkGREREcbx48eNTp06Vainqr7qyIYNG8xtmzdvbly9etXS9pUp357MzEyjY8eOlR57RESEXV+82cCBA52eP0nGxIkTq2x/+ef2yJEjxiOPPFLp68KV/d38GrJi586dRnh4eJV1BwcHG8nJyRW2Lf/6rupv27Zt1WpbZfuaM2eO0zKuvt/U9DktLi42QkJCDElGixYtjGvXrlV5HKWlpUaLFi0MSUZISIhRXFxcoUxubq4RGxvrtE1PPPGEw+0NwzC2bdvm9HxV5b333nPpvERERNhtV/45cPS8l+/TEydOND799FPz/Dn6K2v79evXjVmzZlVazt/f39i5c2eVx+SO8wq4C/dEAXVEbm6u7r//fp07d06S1K5dO02aNElt27bVhQsXtHbtWm3cuFGjRo1SYGCgR9r4u9/9Ths3blRYWJgmTZqkzp07q7S0VHv27DEvATIMQ2PGjDFvMG/evLkeffRRxcTE6M4779TJkyf1t7/9Tfv27dOePXs0ePBg7d27t1r3YFhx8OBB83FERESt7qs63nnnHfPx/fff77DM9evXdfXqVYWHh2vIkCH6wQ9+YI4anT59Wjt27NC6detUWlqqZ555RuHh4XrkkUeq3O/Vq1c1atQoHTp0SP369dPo0aMVHh6ub7/91uyLrkpJSTEfjxkzpspL+KqjoKBAw4cP15EjRxQfH68HH3xQQUFBOn78uP7yl7/o1KlTOnnypCZMmFDpyMOVK1fk7++vwYMHq1u3bmrTpo38/PyUk5OjQ4cOKTExUZcuXdLSpUvVtGlTl36i4Be/+IU2btyotm3bavz48YqOjtbly5e1fft22Ww2rVq1Srm5uZo8ebIkadCgQXr22Wcr1GOz2Syfk/T0dMXGxurKlSuSbsxW+dhjj6l169Y6e/asPvroI33++ef67rvvNGLECG3evNluhHHcuHHmbG1lfaVTp0767W9/a7cfT0z04Mr7jVTz59TX11djx47V4sWLlZOToy1btmjIkCGVtmvLli3KycmRdOP83TxzYV5ennr37m2OCHfs2FE/+tGP1L59e3l7e+vQoUNasmSJzpw5o3feeUelpaW1MplKbGysVq1apa1bt+pPf/qTJMcT3NTkvffUqVN65JFHdPHiRT355JPq37+/fH199emnn+qdd95RSUmJXnrpJQ0YMED79+/Xb3/7W0VFRWnSpElq37698vPztXz5cn3++ecqLCzUj3/8Yx0+fNjhJaV15bwCJk+nOOB2onLfdFV328q+3X/88cfNMg8//LBRVFRUocw777xjeHl5OW1HbY1ESTL69etnfP/995XW9/rrr5tlR44cWWnZF154wSw3Y8YMp+2sifz8fCMoKMjc34EDByoteytHoi5dumTs37/fmDp1qvm8hoeHG1lZWQ7rKy0tNTZu3Ghcv3690n1++eWXRlhYmCHJiIqKqvRb9bKRqLK/RYsWVesYy+vRo4dZ34oVK2pcX5ny7WzYsKGxbt26CmXOnz9vREZGmuV2797tsK5PPvnEuHz5cqX7On/+vNGvXz9DkuHt7W0cP37cYbnyz60k40c/+lGVI1c3f3vvDteuXbMbQZw6darD53vevHlmmbvuusu4cuWKw/qcvUfVlNWRKFfebwzDPc/pzp07zX1OmDChyv2NHz/eLLtr164K60eOHGmuf/nllx0+JxcvXjQeeOABs9zGjRsrlKnpSFSZ8iNSrrynWRmJ0v+NxqWnp1col5iYaJbp3Lmz0ahRIyM+Pr7C/22lpaXGkCFDzLJ/+9vfHLbLXecVcBdCFGBB+f84nP3d/EGpqg8oOTk5ho+PjyHJsNlsVX5ouPnDmyO1FaLuvPPOSj/gG4ZhXLlyxbDZbIYk4+6773Z6OVf//v0NSUaTJk0q/WDnDpMnTzaPYfjw4VWWra0Q5ewvKCjImDRpkpGdnV2jfRqGYbz77rtmvZ999pnDMuVD1COPPFLjfRqGYbRs2bLKD5fVVf48zZs3r9Jyb7/9tkvlnMnMzLT7sOZI+ee2VatWRmFhYZV11kaIWrNmjVlnr169qgzXw4cPN8u+/fbbDsvUtRDl7P3GClee03bt2hnSjcvKLl265LDMpUuXDH9/f0OS0a5duwrrv/jiC3M/CQkJVbYpLy/PCAwMNCQZQ4YMqbD+dglRH3zwQaV1tW/f3iwXGhpqFBQUOCz3+eefV3ne3HleAXdhYgmgDli/fr1KS0sl3bjxt0mTJpWWnTp16q1qVgVll3pVJjk5Wbm5uZLkdEY26d+/11RQUKBdu3a5r6HlrFixQm+99ZakG9OhO5tGOzU1VcaNL5jMm6ZvBR8fH/n7+7tlso0+ffqYj3fv3u20/JQpU2q8T0nmxCeS1LRpU7fUWV6DBg30zDPPVLq+/GVKhw8frvZ+oqKiFBYWJsm185eQkKA777yz2vurrpUrV5qPp0+fXuVEMjNnznS4XV3m7P3GClee07L3o8LCwkpn8Fy9erUKCwslSePHj6+wfvny5ebjX/3qV1W2qVmzZho2bJgk6dNPP9XVq1edHEXdY7PZ9KMf/ajS9X379jUfjx8/XgEBAQ7L9ejRw7ws0tFrt76dV9weuCcKqCZnP7bbunVrl+vat2+f+XjQoEFVlo2JiVFgYGCVM7jVlv79+1e5/rPPPjMfFxYWavXq1VWWz8rKMh9//fXXlmeDc+azzz7TT3/6U0k3Zuh7++237X4A+VZydC9CcXGxsrKy9Mknn2jjxo3685//rPfff19JSUnq3bt3pXV98803Wrp0qVJTU3XkyBHl5+erqKjIYdkzZ85U2a4GDRpUua+6pH379lXOxtiyZUvzcVWz9JXNcLhhwwZ99dVXOn/+vC5duuSwrLPzJzl/XdSWPXv2SLrRt6u6h0e6Eaz9/f1VWFjoUjCsC6ycV3c8p48//rjmzJkj6caXL48++miFMitWrDAf//jHP66wvuw9sGHDhjp69KiOHj1aZbvLPuBfvXpVx48fV4cOHaosX9fce++9atCgQaXrQ0NDzcc9evSotJyPj4+Cg4N19uxZh6/d+nZecXsgRAHV5M4fiszOzjYfR0VFOS0fGRlp98OVt0r5D6mOlJ92+Ne//rWlup1NTW3Vvn37NGLECDNc/OEPf9CYMWPcug8rqvqx3V/84hdas2aNRo8erby8PI0cOVJff/21wx8Efv311zVz5kyXv10tKCiocn1wcLD8/PxcqsuZ4OBgMxjn5+e7pc7yQkJCqlxf/mb0ykLltm3b9Nhjj+ns2bMu7dPZ+ZOcvy5qS9nkBmFhYZV+w1/G29tbbdu21Zdffqm8vDwVFxe7feIPd3P1vLrrOY2KilKfPn20Y8cObd68Wd9++62aN29urs/NzTUnT+nbt6/D9+qy98Di4mKnk7rczN3vgbdCcHBwlevLvyZdLevotVvfzituD4QooA4o/42pKzMleeLSIUm64447qlxfk9Gxsh/6dIcDBw5o6NCh5oelBQsWePQySFc8/PDDGj9+vJYsWaLc3Fy9+eabeuGFF+zKJCYm6he/+IX57/79+2vAgAFq06aNAgICzA/F5WeCu3btWpX7dfacWhEeHm6GqMzMTPXs2dNtdUs3gkBNZGRkaPjw4eZMdtHR0XrwwQfVrl07BQUF2YXJn/3sZ/r222+dnj/JvefQiosXL0py/f3A39/fbltnH2o9zZXz6u7ndPz48dqxY4dKS0v14Ycf2l3q+uGHH5qXXTu6lE+qO++Bt4qV12RNXr/17bzi9kCIAuqA8h+CLl++7LR8ZZepVIc77sEpU/5D2jfffOORqcQPHTqk+++/X3l5eZKkl156ye5+kLps6NCh5pS8KSkpFULU7NmzJd249GXt2rV68MEHHdZz6NChWm1nZfr27au9e/dKknbs2KHHHnvMI+2ozIIFC8wP27/5zW/08ssvV3ofUdlloHVZQECA8vPzXX4/KLuXp2zb/wTufk7HjBmjqVOnqri4WCtWrLALUWWX8jVs2LDSUW1/f3/l5+erTZs2OnHihNXDQSU4r6iLmFgCqAPK3zx9/Phxp+Wd/SdS/hIKZ9/CnT9/3un+XFX+8htPfJA/cuSIBg8erG+//VaS9Pzzz5vB43ZQfmSg/CWe0o1+UdY3Ro4cWWmAkqSTJ0/WTgOdeOCBB8zHH330UZ37BviTTz6RdONm+Hnz5lX6YfvixYtmCK/LWrRoIUk6e/asOSpVGcMwzN/XCQ4OrvOX8rnK3c9pUFCQOSnBnj17lJGRIUk6duyY+QXB8OHDK703r+w98PTp0y5dCgrXcF5RFxGigDrg3nvvNR9v27atyrJpaWlOL20oPzPazR/Gy7tw4YKOHTvmYiudGzBggPnY2cQb7vavf/1LsbGx5g/E/upXv9Irr7xyS9tQU+Vnt7v5Eq3yP3zrbHKM5ORk9zbMRUOHDlV0dLQk6dtvv9XixYs90o7KlJ3DyMjIKi8t+uSTT9w6QivZX8pkGIZb6iy7Ud8wDG3ZsqXKsjt27DBHoqq6wf92UxvPaflL9cpGn8pPKFHZpXzSv98Dr127pnXr1rm0v9pWG33vVquL5xUgRAF1wPDhw+Xjc+Pq2vfee6/Kb9qcTdEt3fgl9zJbt26ttNwbb7zh0j0frho2bJh58/+yZctu2WjUiRMnFBsba95o/+yzz+p3v/vdLdm3O5UPPzfPJlX+XrmyEQVHzpw5o/fee8/9jXOBt7e35s2bZ/77hRde0D//+U+Xt//yyy81f/782miapH+fw+PHj1f6YfLatWu1Er7LX+rqrstxR48ebT7+/e9/X+UH5IULFzrc7nZXG8/piBEjzJGmxMREGYahxMRESTemzx4+fHil206YMMF8PG/ePLdeel1dtdH3brW6eF4BQhRQB4SFhWncuHGSbkwKMGHCBIezr7377rtatmyZ0/ri4uLMxwsWLHA4O9HGjRv18ssv16DVFd15553mFMHFxcUaNmyY3fTtjuzdu9fyTH7lnTlzRrGxsTp9+rQk6ec//7lLQbMyAwcOlJeXl7y8vMz7k26FtWvX2n3bffP0yh06dDBHp9asWWNOb13euXPn9PDDDzu9tKs2jRkzxpzUoqioSEOGDNGf//xnlZSUVLpNXl6eXnjhBfXu3du8fKo2dO/eXdKNUbLXX3+9wvqSkhL99Kc/ddpnqyMoKEiBgYGSpPT0dLeMCAwfPlydOnWSJH3++eeaPn26w9GWV155xfz2/q677nI4Nfftqjae04YNG5q/fZSZmalFixaZl9KOGTOmykshe/bsaYbUY8eO6aGHHrIbRb5ZaWmpVq9erTfeeMPl9lkVGRlpPt6/f3+t7ac21cXzCjCxBFBHvPbaa0pJSdG5c+e0Zs0a3XPPPZo0aZLatm2r/Px8rV27Vhs2bFDbtm3VpEkTpaWlVXr9f8+ePdW/f3999tln+te//qWuXbvqqaeeUlRUlPLy8rRp0yatWbNG7du3V+PGjZWWlua243jmmWe0d+9eLVu2TKdOnVKPHj0UFxenwYMHq1WrVjIMQ+fPn9dXX32lLVu2KDMzU23bttWrr75qeV+FhYWKjY01p7/t1KmT7r//fqe/TxUSEqJ+/fpV5/Cqbf/+/RV+gLakpERZWVlKSUnRxo0bzQ/WI0eO1IgRI+zKNmzYUJMnT9aiRYtUUlKi++67TwkJCerevbt8fX21f/9+vffee8rPz9eECRNcCtu15U9/+pOuX7+ut99+W0VFRZoyZYoWLFigYcOGKSYmRiEhISoqKlJ2drY+/fRTpaammpMD1KYpU6aYU1RPmzZNqampGjp0qIKDg5WRkaFly5YpIyNDgwYNUkZGhku/EWVFbGysVq1apczMTI0dO1ajRo2y6xMDBgywNNOft7e3li9frr59++rKlSt67bXXtG3bNv34xz9Wq1atdO7cOX300UfmaKCvr6+WLVvmtint64Laek7Hjx+v//3f/5UkuwleqrqUr8y7776rY8eO6auvvtK2bdsUFRWl//7v/1bv3r3Nvp+Tk6P9+/dr8+bNysvL0xNPPFGNo3fNPffcI5vNptzcXK1YsULNmzdXr169zL52xx132F2KXVfVtfMKyADgMknmX3W3HTBgQKVlvvrqK6Nly5Z2+yn/d9dddxlffvml0bdvX0OS0aRJk0rrOn78uBEREVFpXdHR0caxY8eMAQMGVHlMc+bMMddv27bNpWO9fv268fLLLxuNGjWqdP/l/6o6J1U5ceKES/Vb2V/58/Hee+9Vq11lJk6caLltCQkJRlFRkcP6rly5YgwaNKjK7SdPnmxkZmaa/544caLDusr6RkRERI2OsSpLliypsg+W//Px8TF+8pOfGGfOnKlQj5V+4qzs888/X2U7+vbta+Tm5jo9P+Wf2xMnTrh0PtLS0ow77rij0n27Ws/NduzYYbRo0aLK4woKCjI2bdpUZT01fT06U/69ZM6cOU7LuPp+467ntLzr168bkZGRdvVERUW5fKwFBQXG2LFjXX7dv/jiixXq2LZtm9Pz5aq33nqr0n3ffD6cPQfl33cre39xta7yXHl+3HFeAXfhcj6gDuncubMOHz6suXPn6gc/+IH8/f0VEBCge+65R3PmzFFaWpp+8IMfmBMQOPox1jKRkZFKS0vTCy+8oI4dO+qOO+5QkyZNFBMTowULFmjfvn1q165drRyHl5eXZs2apRMnTmjevHkaMGCAwsLC1LBhQ/n5+alVq1a6//779eKLL2rnzp1KTU2tlXbUdT4+PgoKClL37t01depUpaWl6Z133rGbXbE8Pz8/bd68WW+88YZ69+6tgIAANWrUSBERERozZoySk5P15ptv1vj3lNxl4sSJysjI0EcffaSf/vSn5jfivr6+CggIUFRUlB555BH98Y9/VFZWlt59991a/+HaV155RRs3btTw4cMVEhIiX19ftWjRQrGxsXr77beVmppq9wOr7tSlSxd98cUXevLJJxUdHe3Sb8K5ouwyyEWLFmnAgAFq3ry5fH19FRwcrN69e2v+/PnKzMzU0KFD3bK/uqY2nlMvLy89/vjjdsusXAYZEBCgDz/8UPv379dzzz2nmJgYBQcHy8fHR/7+/mrXrp1GjhypRYsWKTMz0+5ewtrws5/9TJs2bdLIkSPVqlWrSt9j6rq6dl5Rv3kZxm06VQtQT+Xn5ys4OFjXr19XfHy81qxZ4+kmAQAA1Ct14+tKAC77y1/+Yt48PmjQIA+3BgAAoP5hJAqoQ3bu3Klu3bpVOvvTqlWrNG7cOBUXF6tx48Y6deqU3Q+0AgAAoPYxOx9Qh7z44otKT0/XsGHD1K1bN7Vo0ULXr1/XyZMntXHjRm3fvt0s++qrrxKgAAAAPICRKKAOuf/++7Vly5Yqy/j4+Gj+/Pk1+m0lAAAAVB8hCqhDjhw5onXr1iklJUUnTpzQd999p4sXL6pJkyaKjIxUbGys+XtPAAAA8AxCFAAAAABYwOx8AAAAAGABIQoAAAAALCBEAQAAAIAFhCgAAAAAsIAQBQAAAAAWEKIAAAAAwAIfTzegrsnOzvZ0E+qlkJAQSdL58+c93BLg1qP/oz6j/6M+o/97Vnh4eLW3ZSQKAAAAACwgRAEAAACABYQoAAAAALCAEAUAAAAAFhCiAAAAAMACQhQAAAAAWECIAgAAAAALCFEAAAAAYAEhCgAAAAAsIEQBAAAAgAWEKAAAAACwgBAFAAAAABYQogAAAADAAkIUAAAAAFhAiAIAAAAACwhRAAAAAGABIQoAAAAALCBEAQAAAIAFhCgAAAAAsIAQBQAAAAAWEKIAAAAAwAJCFAAAAABY4OPpBsB9wlu29HQTaizc0w2ogeysLE83AQAAALcAI1EAAAAAYAEhCgAAAAAsIEQBAAAAgAWEKAAAAACwgBAFAAAAABYQogAAAADAAkIUAAAAAFhAiAIAAAAACwhRAAAAAGABIQoAAAAALCBEAQAAAIAFhCgAAAAAsIAQBQAAAAAWEKIAAAAAwAIfd1SyYsUKHT9+XDk5OSooKFDDhg3VvHlzde/eXXFxcQoICDDL5ubm6plnnqm0rj59+ui5555zuC41NVXJyck6c+aMvL29FRkZqYceekjdunVzx2EAAAAAgFNuCVHr169XVFSU7rnnHgUGBurq1avKyMjQxx9/rE8++UTz589XSEiI3TYRERHq3r17hbpat27tcB/Lli1TUlKSgoODNXjwYJWWlmrHjh1auHChEhISFBcX545DAQAAAIAquSVELV26VA0bNqyw/IMPPtCqVau0evVqPfnkk3br2rRpozFjxrhU/9GjR5WUlKTQ0FAtWLBA/v7+kqT4+HjNnDlTy5cvV9euXWWz2Wp+MAAAAABQBbfcE+UoQElS7969JUk5OTk1qnxcDfoAACAASURBVD8lJUWSNGrUKDNASZLNZtPQoUNVUlKi1NTUGu0DAAAAAFxRqxNLfPHFF5JuXLp3swsXLiglJUUrV65USkqKTp48WWk9Bw8elCR16dKlwrqYmBi7MgAAAABQm9xyOV+ZtWvXqqioSJcvX9bx48d15MgRRUREaOTIkRXKHjhwQAcOHLBb1qlTJz399NN2908VFRUpLy9Pfn5+atasWYV6wsLCJLk+2jVjxgyHyxcuXChJFe7dAlxF30F1+fjceCumD6E+ov+jPqP/377cGqLWrVun77//3vx3ly5d9POf/1xNmjQxlzVq1EijR49W9+7dFRoaKkk6efKkPv74Yx06dEjz5s3Tq6++Kj8/P0nS5cuXJUmNGzd2uM+y5ZcuXXLnoQAAAACAQ16GYRjurjQ/P1/Hjh1TYmKiioqKNGPGDEVFRVW5zbVr1zR79mxlZGRo0qRJGjZsmCQpLy9PTz31lIKCgvTmm29W2K60tFSPPfaYfH19lZiYWOO2Z2dn17gOTwlv2dLTTajXsrOyPN0E3KbKvoE8f/68h1sC3Hr0f9Rn9H/PCg8Pr/a2tXJPVNOmTdWjRw/NmjVLFy9e1OLFi51u06BBA8XGxkqSDh8+bC4vG2kqG5G6mbORKgAAAABwp1qdWKJ58+Zq1aqVTp8+rYKCAqflyy77u3r1qrnMz89PQUFBKioq0oULFypsc/bsWUlSixYt3NRqAAAAAKhcrYYoSWbw8fZ2vquMjAxJMu+VKtO5c2dJUnp6eoVt0tLS7MoAAAAAQG2qcYjKyspSfn5+heXXr1/XBx98oO+//17R0dHm7ztlZGSotLS0QvmDBw9q/fr1kqT+/fvbrRsyZIgkaeXKlSosLDSX5+bmKjk5Wb6+vho4cGBNDwUAAAAAnKrx7Hzp6elasWKFOnTooNDQUAUEBCg/P19ff/21zp07p6ZNm2ry5Mlm+cTERJ0+fVqdOnVSUFCQJOnUqVPm7zyNHTtW0dHRdvuIjo7WiBEjlJSUpOnTp6tnz54qLS3Vzp07VVhYqISEBNlstpoeCgAAAAA4VeMQdc8992jw4ME6evSoTp48qUuXLqlRo0YKDw9X//79NWzYMHMUSpLuu+8+7dmzR5mZmUpLS9O1a9cUGBio3r17Ky4uTh06dHC4nwkTJqh169ZKTk7Wli1b5OXlpcjISMXHx6tbt241PQwAAAAAcEmtTHF+O2OKc1QXU5yjupjiFvUZ/R/1Gf3fs+rcFOcAAAAA8J+KEAUAAAAAFhCiAAAAAMACQhQAAAAAWECIAgAAAAALCFEAAAAAYAEhCgAAAAAsIEQBAAAAgAWEKAAAAACwgBAFAAAAABYQogAAAADAAkIUAAAAAFhAiAIAAAAACwhRAAAAAGABIQoAAAAALCBEAQAAAIAFhCgAAAAAsIAQBQAAAAAWEKIAAAAAwAJCFAAAAABYQIgCAAAAAAsIUQAAAABgASEKAAAAACwgRAEAAACABYQoAAAAALCAEAUAAAAAFhCiAAAAAMACQhQAAAAAWECIAgAAAAALCFEAAAAAYAEhCgAAAAAsIEQBAAAAgAWEKAAAAACwgBAFAAAAABYQogAAAADAAkIUAAAAAFhAiAIAAAAACwhRAAAAAGABIQoAAAAALCBEAQAAAIAFhCgAAAAAsIAQBQAAAAAWEKIAAAAAwAJCFAAAAABYQIgCAAAAAAsIUQAAAABgASEKAAAAACwgRAEAAACABYQoAAAAALCAEAUAAAAAFhCiAAAAAMACH3dUsmLFCh0/flw5OTkqKChQw4YN1bx5c3Xv3l1xcXEKCAiosM3Ro0e1cuVKHTt2TCUlJQoLC9OgQYP04IMPytvbcbZLTU1VcnKyzpw5I29vb0VGRuqhhx5St27d3HEYAAAAAOCUl2EYRk0refTRRxUVFaWWLVsqMDBQV69eVUZGhjIzM9WsWTPNnz9fISEhZvm9e/fqtddek6+vr/r06SN/f3998cUXys7OVq9evTRt2rQK+1i2bJmSkpIUHBysnj17qrS0VDt27FBhYaESEhIUFxdX08OQJGVnZ7ulHk8Ib9nS002o17KzsjzdBNymyt4fz58/7+GWALce/R/1Gf3fs8LDw6u9rVtGopYuXaqGDRtWWP7BBx9o1apVWr16tZ588klJ0uXLl/XWW2/J29tbc+fOVdu2bSVJY8eO1bx587Rr1y59/vnn6tu3r1nP0aNHlZSUpNDQUC1YsED+/v6SpPj4eM2cOVPLly9X165dZbPZ3HE4AAAAAFApt9wT5ShASVLv3r0lSTk5OeayXbt2qaCgQH369DEDVFkd48aNkyRt3rzZrp6UlBRJ0qhRo8wAJUk2m01Dhw5VSUmJUlNT3XEoAAAAAFClWp1Y4osvvpAkRUREmMsOHjwoSerSpUuF8h06dFCjRo3M+6Rc2SYmJsauDAAAAADUJrdczldm7dq1Kioq0uXLl3X8+HEdOXJEERERGjlypFmmbFTK0TWIDRo0kM1m0+nTp3Xu3Dm1atVKRUVFysvLk5+fn5o1a1Zhm7CwMLt6nZkxY4bD5QsXLpQku3u3ACvoO6guH58bb8X0IdRH9H/UZ/T/25dbQ9S6dev0/fffm//u0qWLfv7zn6tJkybmssuXL0uSGjdu7LCOsuVl5Vwtf+nSpRq2HgAAAACcc2uIevvttyVJ+fn5OnbsmBITEzVjxgzNmDFDUVFRLtVR3ckCvby8XCpXNuJUmdt5dpTqzy8Cd7id+w48i9mZUJ/R/1Gf0f89qyaz89XKPVFNmzZVjx49NGvWLF28eFGLFy8219080nSzK1eu2JVzVt7ZSBUAAAAAuFOtTizRvHlztWrVSqdPn1ZBQYEkqUWLFpIc/x7TtWvXlJubqwYNGig0NFSS5Ofnp6CgIBUVFenChQsVtjl79qxdvQAAAABQm2o1REkyg4+3941dde7cWZKUnp5eoezXX3+tq1evqn379vL19TWXV7VNWlqaXRkAAAAAqE01DlFZWVnKz8+vsPz69ev64IMP9P333ys6Otr8fadevXopICBAO3bsUGZmplm+uLhYH374oSTpgQcesKtryJAhkqSVK1eqsLDQXJ6bm6vk5GT5+vpq4MCBNT0UAAAAAHCqxhNLpKena8WKFerQoYNCQ0MVEBCg/Px8ff311zp37pyaNm2qyZMnm+UbN26syZMna9GiRZo7d6769u0rf39/7du3T9nZ2erVq5f69Oljt4/o6GiNGDFCSUlJmj59unr27KnS0lLt3LlThYWFSkhIkM1mq+mhAAAAAIBTXkZ1p8P7P6dOndLmzZt19OhR5eXl6dKlS2rUqJHCw8MVExOjYcOGmaNQ5R05ckSrVq3SsWPHVFxcrLCwMA0aNEjDhg0zL/27WWpqqpKTk3XmzBl5eXkpMjJS8fHx6tatW00OwY6je7VuF+EtW3q6CfVadlaWp5uA2xSzM6E+o/+jPqP/e1ZNZuercYj6T0OIQnURolBd/CeK+oz+j/qM/u9ZdW6KcwAAAAD4T0WIAgAAAAALCFEAAAAAYAEhCgAAAAAsIEQBAAAAgAWEKAAAAACwgBAFAAAAABYQogAAAADAAkIUAAAAAFhAiAIAAAAACwhRAAAAAGABIQoAAAAALCBEAQAAAIAFhCgAAAAAsIAQBQAAAAAWEKIAAAAAwAJCFAAAAABYQIgCAAAAAAsIUQAAAABgASEKAAAAACwgRAEAAACABYQoAAAAALCAEAUAAAAAFhCiAAAAAMACQhQAAAAAWECIAgAAAAALCFEAAAAAYAEhCgAAAAAsIEQBAAAAgAWEKAAAAACwgBAFAAAAABYQogAAAADAAkIUAAAAAFhAiAIAAAAACwhRAAAAAGABIQoAAAAALCBEAQAAAIAFhCgAAAAAsIAQBQAAAAAWEKIAAAAAwAJCFAAAAABYQIgCAAAAAAsIUQAAAABgASEKAAAAACwgRAEAAACABYQoAAAAALCAEAUAAAAAFhCiAAAAAMACQhQAAAAAWECIAgAAAAALCFEAAAAAYIFPTSu4ePGi9uzZo/379+vUqVPKy8uTj4+PWrdurUGDBmngwIHy9v53VsvNzdUzzzxTaX19+vTRc88953BdamqqkpOTdebMGXl7eysyMlIPPfSQunXrVtPDAAAAAACX1DhE7dy5U3/961/VrFkzderUSSEhIcrPz9eePXv05ptvKi0tTdOmTZOXl5fddhEREerevXuF+lq3bu1wP8uWLVNSUpKCg4M1ePBglZaWaseOHVq4cKESEhIUFxdX00MBAAAAAKdqHKLCw8P161//Wl27drUbcXrsscf0/PPPa/fu3dq9e7d69eplt12bNm00ZswYl/Zx9OhRJSUlKTQ0VAsWLJC/v78kKT4+XjNnztTy5cvVtWtX2Wy2mh4OAAAAAFSpxvdEde7cWffee69dgJKkpk2basiQIZKkw4cP12gfKSkpkqRRo0aZAUqSbDabhg4dqpKSEqWmptZoHwAAAADgilqdWMLH58ZA180BS5IuXLiglJQUrVy5UikpKTp58mSl9Rw8eFCS1KVLlwrrYmJi7MoAAAAAQG2q8eV8lbl27Zq2b98uyXH4OXDggA4cOGC3rFOnTnr66acVEhJiLisqKlJeXp78/PzUrFmzCvWEhYVJknJyclxq14wZMxwuX7hwoSTZ7Ruwgr6D6ir7wok+hPqI/o/6jP5/+6q1EJWYmKjTp08rJibGLkQ1atRIo0ePVvfu3RUaGipJOnnypD7++GMdOnRI8+bN06uvvio/Pz9J0uXLlyVJjRs3drifsuWXLl2qrUMBAAAAAFOthKgNGzYoKSlJLVu21JQpU+zWBQYGauzYsXbLOnbsqFmzZmn27NnKyMjQ1q1bNWzYMEv7vHn2v8qUjThV5vz585b2W5eEe7oB9dzt3HfgWWXfQNKHUB/R/1Gf0f89Kzy8+p+e3X5P1KZNm7RkyRK1atVKc+bMsZsIoioNGjRQbGysJPuJKMpGmspGpG7mbKQKAAAAANzJrSFq/fr1evfdd3XXXXdpzpw5atq0qaXtmzRpIkm6evWquczPz09BQUEqKirShQsXKmxz9uxZSVKLFi1q0HIAAAAAcI3bQtTq1au1dOlStWnTRnPmzFFgYKDlOjIyMiTJvFeqTOfOnSVJ6enpFbZJS0uzKwMAAAAAtcktIervf/+73n//fUVFRWn27NnmiJIjGRkZKi0trbD84MGDWr9+vSSpf//+duvKfm9q5cqVKiwsNJfn5uYqOTlZvr6+GjhwoBuOBAAAAACqVuOJJVJTU/XRRx/J29tbd999tzZs2FChjM1mM0NO2ax9nTp1UlBQkCTp1KlT5u88jR07VtHR0XbbR0dHa8SIEUpKStL06dPVs2dPlZaWaufOnSosLFRCQoJsNltNDwUAAAAAnKpxiMrNzZUkXb9+3WGAkm7MvlcWou677z7t2bNHmZmZSktL07Vr1xQYGKjevXsrLi5OHTp0cFjHhAkT1Lp1ayUnJ2vLli3y8vJSZGSk4uPj1a1bt5oeBgAAAAC4xMswDMPTjahLsrOzPd2Eagtv2dLTTajXsrOyPN0E3KaY4hb1Gf0f9Rn937Pq1BTnAAAAAPCfjBAFAAAAABYQogAAAADAAkIUAAAAAFhAiAIAAAAACwhRAAAAAGABIQoAAAAALCBEAQAAAIAFhCgAAAAAsIAQBQAAAAAWEKIAAAAAwAJCFAAAAABYQIgCAAAAAAsIUQAAAABgASEKAAAAACwgRAEAAACABYQoAAAAALCAEAUAAAAAFhCiAAAAAMACQhQAAAAAWECIAgAAAAALCFEAAAAAYAEhCgAAAAAsIEQBAAAAgAWEKAAAAACwgBAFAAAAABYQogAAAADAAkIUAAAAAFhAiAIAAAAACwhRAAAAAGABIQoAAAAALCBEAQAAAIAFhCgAAAAAsIAQBQAAAAAWEKIAAAAAwAJCFAAAAABYQIgCAAAAAAsIUQAAAABgASEKAAAAACzw8XQDAMAdwlu29HQTaizc0w2ogeysLE83AQCAW4aRKAAAAACwgBAFAAAAABYQogAAAADAAkIUAAAAAFhAiAIAAAAACwhRAAAAAGABIQoAAAAALCBEAQAAAIAFhCgAAAAAsIAQBQAAAAAWEKIAAAAAwAKfmlZw8eJF7dmzR/v379epU6eUl5cnHx8ftW7dWoMGDdLAgQPl7V0xqx09elQrV67UsWPHVFJSorCwMA0aNEgPPvigw/KSlJqaquTkZJ05c0be3t6KjIzUQw89pG7dutX0MAAAAADAJV6GYRg1qWDz5s3661//qmbNmqlTp04KCQlRfn6+9uzZo8uXL6tnz56aNm2avLy8zG327t2r1157Tb6+vurTp4/8/f31xRdfKDs7W7169dK0adMq7GfZsmVKSkpScHCwevbsqdLSUu3YsUOFhYVKSEhQXFxcTQ7DlJ2d7ZZ6PCG8ZUtPN6Fey87K8nQT6jX6v2fR/1FdISEhkqTz5897uCXArUf/96zw8PBqb1vjkajw8HD9+te/VteuXe1GkB577DE9//zz2r17t3bv3q1evXpJki5fvqy33npL3t7emjt3rtq2bStJGjt2rObNm6ddu3bp888/V9++fc26jh49qqSkJIWGhmrBggXy9/eXJMXHx2vmzJlavny5unbtKpvNVtPDAQAAAIAq1fieqM6dO+vee++tcAle06ZNNWTIEEnS4cOHzeW7du1SQUGB+vTpYwYoSWrYsKHGjRsn6cboVnkpKSmSpFGjRpkBSpJsNpuGDh2qkpISpaam1vRQAAAAAMCpGo9EVVm5z43qywesgwcPSpK6dOlSoXyHDh3UqFEj8z4pX19fp9vExMToH//4hw4ePKgxY8Y4bdOMGTMcLl+4cKGkfw+rAlbRd1Cf0f9RXWWfFehDqI/o/7evWpud79q1a9q+fbsk+/CTk5MjyfE1iA0aNJDNZtO1a9d07tw5SVJRUZHy8vLk5+enZs2aVdgmLCzMrl4AAAAAqE21NhKVmJio06dPKyYmxi5EXb58WZLUuHFjh9uVLS8r52r5S5cuudSushGnytzON/ZV/9Y4uMPt3Hf+E9D/PYv+j+rixnrUZ/R/z6rJxBK1MhK1YcMGJSUlqWXLlpoyZYqlbas7WWD52f8AAAAAoLa4fSRq06ZNWrJkiVq1aqXZs2fbTQQhVRxputmVK1fsyjkr72ykCgAAAADcya0jUevXr9e7776ru+66S3PmzFHTpk0rlGnRooUkx7/HdO3aNeXm5qpBgwYKDQ2VJPn5+SkoKEhFRUW6cOFChW3Onj1rVy8AAAAA1Ca3hajVq1dr6dKlatOmjebMmaPAwECH5Tp37ixJSk9Pr7Du66+/1tWrV9W+fXtzZj5n26SlpdmVAQAAAIDa5JYQ9fe//13vv/++oqKiNHv2bDVp0qTSsr169VJAQIB27NihzMxMc3lxcbE+/PBDSdIDDzxgt03Z702tXLlShYWF5vLc3FwlJyfL19dXAwcOdMehAAAAAECVanxPVGpqqj766CN5e3vr7rvv1oYNGyqUsdlsZshp3LixJk+erEWLFmnu3Lnq27ev/P39tW/fPmVnZ6tXr17q06eP3fbR0dEaMWKEkpKSNH36dPXs2VOlpaXauXOnCgsLlZCQIJvNVtNDAQAAAACnahyicnNzJUnXr193GKAkqWPHjnYjRT169NDcuXO1atUq7d69W8XFxQoLC9OECRM0bNgwhzPtTZgwQa1bt1ZycrK2bNkiLy8vRUZGKj4+Xt26davpYQAAAACAS7yM6s4p/h/K0YQXt4vwli093YR6LTsry9NNqNfo/55F/0d18Ts5qM/o/55V534nCgAAAAD+UxGiAAAAAMACQhQAAAAAWECIAgAAAAALCFEAAAAAYAEhCgAAAAAsIEQBAAAAgAWEKAAAAACwgBAFAAAAABYQogAAAADAAkIUAAAAAFhAiAIAAAAACwhRAAAAAGABIQoAAAAALCBEAQAAAIAFhCgAAAAAsIAQBQAAAAAWEKIAAAAAwAJCFAAAAABYQIgCAAAAAAsIUQAAAABgASEKAAAAACwgRAEAAACABYQoAAAAALCAEAUAAAAAFhCiAAAAAMACQhQAAAAAWECIAgAAAAALCFEAAAAAYAEhCgAAAAAsIEQBAAAAgAWEKAAAAACwgBAFAAAAABYQogAAAADAAkIUAAAAAFhAiAIAAAAACwhRAAAAAGABIQoAAAAALCBEAQAAAIAFhCgAAAAAsIAQBQAAAAAWEKIAAAAAwAJCFAAAAABYQIgCAAAAAAsIUQAAAABgASEKAAAAACwgRAEAAACABYQoAAAAALCAEAUAAAAAFhCiAAAAAMACH3dUsmvXLh0+fFjffPONTp48qStXrqhfv3569tlnK5TNzc3VM888U2ldffr00XPPPedwXWpqqpKTk3XmzBl5e3srMjJSDz30kLp16+aOwwAAAAAAp9wSov7xj3/o5MmT8vPzU3BwsLKyspxuExERoe7du1dY3rp1a4flly1bpqSkJAUHB2vw4MEqLS3Vjh07tHDhQiUkJCguLq7GxwEAAAAAzrglRE2cOFHBwcEKCwvT4cOH9dJLLzndpk2bNhozZoxL9R89elRJSUkKDQ3VggUL5O/vL0mKj4/XzJkztXz5cnXt2lU2m61GxwEAAAAAzrjlnqjOnTurRYsW8vLyckd1FaSkpEiSRo0aZQYoSbLZbBo6dKhKSkqUmppaK/sGAAAAgPI8NrHEhQsXlJKSopUrVyolJUUnT56stOzBgwclSV26dKmwLiYmxq4MAAAAANQmt1zOVx0HDhzQgQMH7JZ16tRJTz/9tEJCQsxlRUVFysvLk5+fn5o1a1ahnrCwMElSTk6OS/udMWOGw+ULFy6UJLt9A1bQd1Cf0f9RXT4+Nz6K0IdQH9H/b1+3PEQ1atRIo0ePVvfu3RUaGipJOnnypD7++GMdOnRI8+bN06uvvio/Pz9J0uXLlyVJjRs3dlhf2fJLly7dgtYDAAAAqO9ueYgKDAzU2LFj7ZZ17NhRs2bN0uzZs5WRkaGtW7dq2LBhlup19X6sshGnypw/f97SfuuScE83oJ67nfvOfwL6v2fR/1FdZd/A04dQH9H/PSs8vPqfHurMj+02aNBAsbGxkqTDhw+by8tGmspGpG7mbKQKAAAAANypzoQoSWrSpIkk6erVq+YyPz8/BQUFqaioSBcuXKiwzdmzZyVJLVq0uDWNBAAAAFCv1akQlZGRIUnmvVJlOnfuLElKT0+vsE1aWppdGQAAAACoTbc8RGVkZKi0tLTC8oMHD2r9+vWSpP79+9utGzJkiCRp5cqVKiwsNJfn5uYqOTlZvr6+GjhwYO01GgAAAAD+j1smltizZ4/27t0rScrPz5d0IywtXrxYkhQQEKAJEyZIkhITE3X69Gl16tRJQUFBkqRTp06Zv/M0duxYRUdH29UfHR2tESNGKCkpSdOnT1fPnj1VWlqqnTt3qrCwUAkJCbLZbO44FAAAAACokltC1DfffKPt27fbLTt37pzOnTsnSWrevLkZou677z7t2bNHmZmZSktL07Vr1xQYGKjevXsrLi5OHTp0cLiPCRMmqHXr1kpOTtaWLVvk5eWlyMhIxcfHq1u3bu44DAAAAABwysswDMPTjahLsrOzPd2Eagtv2dLTTajXsrOyPN2Eeo3+71n0f1QXUzyjPqP/e9Z/xBTnAAAAAHA7IEQBAAAAgAWEKAAAAACwgBAFAAAAABYQogAAAADAAkIUAAAAAFhAiAIAAAAACwhRAAAAAGABIQoAAAAALCBEAQAAAIAFhCgAAAAAsIAQBQAAAAAWEKIAAAAAwAJCFAAAAABYQIgCAAAAAAsIUQAAAABgASEKAAAAACwgRAEAAACABYQoAAAAALCAEAUAAAAAFhCiAAAAAMACQhQAAAAAWECIAgAAAAALCFEAAAAAYAEhCgAAAAAsIEQBAAAAgAWEKAAAAACwgBAFAAAAABYQogAAAADAAkIUAAAAAFhAiAIAAAAACwhRAAAAAGABIQoAAAAALCBEAQAAAIAFhCgAAAAAsIAQBQAAAAAWEKIAAAAAwAJCFAAAAABYQIgCAAAAAAsIUQAAAABgASEKwP9v715js6zvP45/KCC1Fg2CtRyiMpxixfOYDCbRLR5gyg4RwcS5zC2a6LIHZoQtC8rEQ3igPhhmMctG0GUoeFqCTly24YyIoAjOA+DccGA5DhUqZ+3/gX/6/3ctwoVtL2pfr2dc1++++73DD9J3r/u+CgBAASIKAACgABEFAABQgIgCAAAoQEQBAAAUIKIAAAAKEFEAAAAFiCgAAIACRBQAAEABIgoAAKAAEQUAAFBAj7Z4kkWLFuWNN97I6tWr884772THjh356le/mh//+Mf7fczKlSvz2GOPZdWqVdmzZ09qa2tz0UUXZcyYMamoaL3tFixYkPnz52ft2rWpqKjI4MGDc8UVV+S8885ri5cBAABwQG0SUY8++mjeeeedVFZWpm/fvnn33Xc/df2SJUty9913p2fPnhk5cmSqq6vz8ssvZ9asWVm5cmVuvvnmFo954IEHMm/evPTt2zdf//rXs3fv3ixcuDDTp0/Pddddl8suu6wtXgoAAMCnapOI+t73vpe+ffumtrY2b7zxRn7xi1/sd+327dtz//33p6KiIlOnTs2QIUOSJBMmTMhtt92WRYsW5fnnn8+oUaOaHrNy5crMmzcvxx9/fO66665UV1cnScaNG5ef/vSnefDBB3PuueempqamLV4OAADAfrXJZ6KGDRuW/v37p1u3bgdcu2jRomzdujUjR45sCqgkOeKIIzJx4sQkyTPPPNPsMX/605+SJN/5zneaAipJampqcumll2bPnj1ZsGBBG7wSAACAT9fhN5Z47bXXkiRnn312i3OnnXZaevXqxj/skgAAEGhJREFU1fQ5qYN5zDnnnNNsDQAAQHtqk7fzFbFu3bokyYABA1qc6969e2pqarJmzZps2LAhgwYNys6dO7Nly5ZUVlamT58+LR5TW1vb7HkPZPLkya0enz59epKkX79+B/U88N/sHboy+59D1aPHJ9+K2EN0RfZ/59XhV6K2b9+eJKmqqmr1/L7j+9Yd7PoPP/ywTecEAABoTYdfiTqQxsbGQ3rcwXweK/m/K077s3nz5kP6+oeDltf26Eidee98Htj/5bL/OVT7fgJvD9EV2f/lau2dcQerw69E/feVpv+2Y8eOZusOtP5AV6oAAADaUodHVP/+/ZMk9fX1Lc599NFH2bhxY7p3757jjz8+SVJZWZljjz02O3fuzHvvvdfiMevXr2/2vAAAAO2pwyNq2LBhSZJly5a1OPfmm29m165dOeWUU9KzZ8+Deswrr7zSbA0AAEB76vCIGjFiRHr37p2FCxfm7bffbjq+e/fuPPTQQ0mSSy65pNljLr744iTJY489loaGhqbjGzduzPz589OzZ89ceOGF7T88AADQ5bXJjSUWL16cJUuWJEnef//9JMlbb72V++67L0nSu3fvXHvttUk++ezSDTfckHvuuSdTp07NqFGjUl1dnZdeein19fUZMWJERo4c2ez5Tz311Fx++eWZN29eJk2alPPPPz979+7NCy+8kIaGhlx33XWpqalpi5cCAADwqbo1Hurt8P6fOXPm5JFHHtnv+eOOO64pqPZZsWJFHn/88axatSq7d+9ObW1tLrrooowdOzYVFa1fIFuwYEHmz5+ftWvXplu3bhk8eHDGjRuX884777O+hCatfVarsxgwcGDZI3Rp9e++W/YIXZr9Xy77n0Pl7mR0ZfZ/uT7L3fnaJKI+T0QUh8o3keWy/8tl/3OofBNJV2b/l6tT3eIcAACgMxNRAAAABYgoAACAAkQUAABAASIKAACgABEFAABQgIgCAAAoQEQBAAAUIKIAAAAKEFEAAAAFiCgAAIACRBQAAEABIgoAAKAAEQUAAFCAiAIAAChARAEAABQgogAAAAoQUQAAAAWIKAAAgAJEFAAAQAEiCgAAoAARBQAAUICIAgAAKEBEAQAAFCCiAAAAChBRAAAABYgoAACAAkQUAABAASIKAACgABEFAABQgIgCAAAoQEQBAAAUIKIAAAAKEFEAAAAFiCgAAIACRBQAAEABIgoAAKAAEQUAAFCAiAIAAChARAEAABQgogAAAAoQUQAAAAWIKAAAgAJEFAAAQAEiCgAAoAARBQAAUICIAgAAKEBEAQAAFCCiAAAAChBRAAAABYgoAACAAnqU9YVvuummbNq0qdVzxxxzTH7961+3OL5y5co89thjWbVqVfbs2ZPa2tpcdNFFGTNmTCoq9CAAAND+SouoJKmqqsrYsWNbHK+srGxxbMmSJbn77rvTs2fPjBw5MtXV1Xn55Zcza9asrFy5MjfffHNHjAwAh50BAweWPcJnNqDsAT6D+nffLXsEoIOVGlFHHXVUrrrqqgOu2759e+6///5UVFRk6tSpGTJkSJJkwoQJue2227Jo0aI8//zzGTVqVHuPDAAAdHGd4j1wixYtytatWzNy5MimgEqSI444IhMnTkySPPPMM2WNBwAAdCGlXonas2dP/va3v2Xz5s2prKzMCSeckLq6uhafb3rttdeSJGeffXaL5zjttNPSq1evps9J9ezZs0NmBwAAuqZSI+r999/PjBkzmh2rqanJjTfemLq6uqZj69atS5IMGNDyHdPdu3dPTU1N1qxZkw0bNmTQoEGf+jUnT57c6vHp06cnSfr161foNcA+9g5dmf1PV2b/c6h69PjkW3F7qPMpLaIuvPDCnHbaaRk0aFCOPPLIbNiwIU8//XT+/Oc/584778ztt9+ek046Kcknn4lKPrkRRWv2Hd+3DgAAoL2UFlHjx49v9ucTTjgh119/fSorKzNv3rzMnTs3kyZNOqjnamxsPOivu++K0/5s3rz5oJ/rcNOZ72z0edCZ987ngf1fLvu/XPZ/uex/DtW+K1D2UDlae5fbwTrsbixxySWXJEnefPPNpmMHutK0Y8eOZusAAADay2EXUUcffXSSZNeuXU3H+vfvnySpr69vsf6jjz7Kxo0b07179xx//PEdMyQAANBlHXYRtWrVqiSf3GBin2HDhiVJli1b1mL9m2++mV27duWUU05xZz4AAKDdlRJRa9asSUNDQ4vjmzZtym9/+9skyQUXXNB0fMSIEendu3cWLlyYt99+u+n47t2789BDDyX5v7cBAgAAtKdSbizxwgsv5A9/+ENOP/301NTUpLKyMhs2bMjSpUuzZ8+enHPOORk3blzT+qqqqtxwww255557MnXq1IwaNSrV1dV56aWXUl9fnxEjRmTkyJFlvBQAAKCLKSWihg0blvr6+qxevTqrVq3Krl27UlVVlaFDh2b06NEZPXp0unXr1uwxX/7ylzN16tQ8/vjjefHFF7N79+7U1tbm2muvzdixY1usBwAAaA+lRFRdXV2zX6Z7sIYOHZqf/exn7TARAADAwTnsbiwBAABwOBNRAAAABYgoAACAAkQUAABAASIKAACgABEFAABQgIgCAAAoQEQBAAAUIKIAAAAKEFEAAAAFiCgAAIACRBQAAEABIgoAAKAAEQUAAFCAiAIAAChARAEAABQgogAAAAoQUQAAAAWIKAAAgAJEFAAAQAEiCgAAoAARBQAAUICIAgAAKEBEAQAAFCCiAAAAChBRAAAABYgoAACAAkQUAABAASIKAACgABEFAABQgIgCAAAoQEQBAAAUIKIAAAAKEFEAAAAFiCgAAIACRBQAAEABPcoeAAAADtWAgQPLHuEzG1D2AJ9B/bvvlj1CKVyJAgAAKEBEAQAAFCCiAAAAChBRAAAABYgoAACAAkQUAABAASIKAACgABEFAABQgIgCAAAoQEQBAAAUIKIAAAAKEFEAAAAFiCgAAIACRBQAAEABPcoeoIj//Oc/efjhh7N8+fJs27Ytffr0yfDhw3PllVemurq67PEAAIAuoNNE1Pr16zNlypR88MEH+dKXvpSBAwfmH//4R5566qksW7Ys06ZNS+/evcseEwAA+JzrNBH1m9/8Jh988EG+//3vZ8yYMU3HZ82alSeffDKzZ8/O9ddfX+KEAABAV9ApPhO1YcOGLF++PMcdd1wuvfTSZueuuuqq9OrVK88991x27txZ0oQAAEBX0Ski6rXXXkuSnHXWWamoaD7ykUcemaFDh2bXrl156623yhgPAADoQjrF2/nq6+uTJP3792/1fG1tbZYvX55169bljDPO+NTnmjx5cqvHp0+fniQZMGDAZ5i0ZI2NZU/QpXXinfP5YP+Xyv4vmf1fKvu/ZPZ/qbrq/u8UV6K2b9+eJKmqqmr1/L7jH374YYfNBAAAdE2d4krUgTT+708gunXrdsC1+644cXjZd4XQ3w9dkf1PV2b/05XZ/51Xp7gSte9K074rUv9tx44dzdYBAAC0l04RUfs+p7Ru3bpWz69fvz7J/j8zBQAA0FY6RUSdfvrpSZLly5fn448/bnZux44dWbFiRY444oh88YtfLGM8AACgC+kUEVVbW5uzzjormzZtyvz585udmzNnTnbt2pXRo0ensrKypAkBAICuotPcWOIHP/hBpkyZkpkzZ+bvf/97Bg0alLfeeiuvv/56+vfvn6uvvrrsEQEAgC6gW2Nj57m5/ubNmzNnzpwsW7Ys27ZtS58+fTJ8+PCMHz8+1dXVZY8HAAB0AZ0qogAAAMrWKT4TBQAAcLgQUQAAAAWIKAAAgAJEFAAAQAEiCgAAoAARBQAAUICIAgAAKEBEAQBAiWbNmpUXXnih7DEoQEQBAKVraGjI9u3byx4DSvHUU0/l1VdfLXsMCuhR9gAAXcnixYvz+uuvp3v37jn77LNz5plntrpuwYIFefbZZ3Prrbd28ITQPrZs2ZLHH38869evz4knnphvfvOb6d27d1avXp0ZM2ZkzZo1SZKhQ4fm+uuvz8CBA0ueGNrGX/7yl4NaV19f32zt1772tfYaiTbQrbGxsbHsIaA1Dz74YBYvXpxf/vKXZY8Cn1ljY2PuvffevPjii82On3vuufnRj36Uo446qtnxuXPn5pFHHsnDDz/ckWNCu2hoaMikSZOyZcuWpmMnnXRSfv7zn2fSpElpaGjIoEGDsmXLlmzdujV9+vTJ3Xff3eLfBXRGEyZMOKTH+f//8OZKFIetbdu2ZePGjWWPAW3ir3/9a1588cX07ds3F198cbp3755nn302S5cuzS233JJbbrklxxxzTNljQrt4+umns2XLlnz729/OV77ylbz00kuZM2dO7rvvvhx55JG544470q9fvyTJ7Nmz88QTT+SPf/xjrrzyypInh7ZRWVmZiy++OL169WpxrrGxMY8++mgGDx6c8847r4TpOBQiCqADLFiwIFVVVbnrrruaYunyyy/P7373uzz55JOZNm1abrnllhx99NElTwptb8mSJRkyZEgmTpyYJDnxxBPz6quvZtmyZfnJT37SFFBJMnHixCxcuDBLly4VUXwu3HTTTZk5c2YWL16cG2+8MUOHDm2xZl9EjR8/voQJORQiig4zY8aMQutXrlzZTpNAx/v3v/+dESNGNLvaVFFRkWuvvTb9+vXLrFmzMm3atNx6662prq4ucVJoe5s2bcoFF1zQ7NgXvvCFrFixIqeeemqz4926dUtdXV0WL17ckSNCuxk9enTq6uryq1/9KlOnTs3YsWNz9dVXp2fPnmWPxmcgougwzz33XNkjQGn27t2737frjR07NhUVFZk5c2Zuv/32TJkypYOng/a1e/fuFm9jqqqqSpJWr74ec8wx2blzZ4fMBh2hX79+mTJlSp566qn8/ve/zyuvvJKbbropJ598ctmjcYhEFB2msrIyffv2zQ9/+MODWv/EE09k+fLl7TwVdIxjjz02mzdv3u/5yy67LB999FEeeOCB3HHHHS1+Og+dWe/evbN169Zmx3r16rXfHyw0NDS4qQSfS2PHjs2ZZ56ZGTNmZMqUKbniiity1VVXlT0Wh0BE0WFOOumkrF69OnV1dQe1fsGCBe07EHSgE044Ia+//vqnrvnGN76RPXv2ZPbs2fnXv/7VQZNB+xswYEDWrl3b7Ni4ceMybty4Vtdv2LAhffv27YjRoMMNGjQod955Z+bOnZsnnngiL7/8ctkjcQj8sl06zIknnpidO3dm/fr1ZY8CHe6cc87Je++9l6VLl37qum9961sZP358Pv744w6aDNrf4MGD889//jN79+494Nr3338/b7zxhquxfK5VVFRkwoQJmTZt2kH9u+Dw40oUHaauri4rVqzIli1bUltbe8D1w4cPz3HHHdcBk0H7O//88/Pxxx+3envb/3bllVemX79+2bRpUwdMBu3vmmuuyTXXXHNQa7dv357vfve7OeOMM9p5KijfySefnHvvvTc7d+5Mjx6+Le9M/LJdAACAArydDwAAoAARBQAAUICIAgAAKEBEAQAAFCCiAAAAChBRAAAABYgoAACAAkQUAABAASIKAACgABEFAABQgIgCAAAoQEQBAAAU8D9k7IjoDcB2jQAAAABJRU5ErkJggg==\n",
      "text/plain": [
       "<Figure size 432x288 with 1 Axes>"
      ]
     },
     "metadata": {
      "image/png": {
       "height": 298,
       "width": 424
      }
     },
     "output_type": "display_data"
    }
   ],
   "source": [
    "# df['traveltime'].value_counts().plot(kind = 'bar', color = 'red', title = 'Travel time')\n",
    "# plt.show();\n",
    "\n",
    "\n",
    "ax = df['traveltime'].value_counts().plot(kind = 'bar', color = 'red')\n",
    "ax.set_xticklabels(ax.get_xticklabels(), rotation = 90)\n",
    "plt.tight_layout()\n",
    "plt.title('Figure 2: Bar Chart of Travel time', fontsize = 15)\n",
    "plt.show();"
   ]
  },
  {
   "cell_type": "markdown",
   "metadata": {},
   "source": [
    "Let's display a boxplot and histogram for Final Grades. Figure 3 shows that this variable is left-skewed. "
   ]
  },
  {
   "cell_type": "code",
   "execution_count": 29,
   "metadata": {},
   "outputs": [
    {
     "data": {
      "image/png": "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\n",
      "text/plain": [
       "<Figure size 432x288 with 1 Axes>"
      ]
     },
     "metadata": {
      "image/png": {
       "height": 285,
       "width": 352
      }
     },
     "output_type": "display_data"
    }
   ],
   "source": [
    "# get a box plot of final grades \n",
    "sns.boxplot(df['G3']).set_title('Figure 3: Box Plot of Final Grades', fontsize = 20)\n",
    "plt.show();"
   ]
  },
  {
   "cell_type": "code",
   "execution_count": 30,
   "metadata": {},
   "outputs": [
    {
     "data": {
      "image/png": "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\n",
      "text/plain": [
       "<Figure size 432x288 with 1 Axes>"
      ]
     },
     "metadata": {
      "image/png": {
       "height": 285,
       "width": 394
      }
     },
     "output_type": "display_data"
    }
   ],
   "source": [
    "# get a histogram of age with kernel density estimate\n",
    "sns.distplot(df['G3'], kde = True).set_title('Figure 4: Histogram of Final Grades', fontsize = 20)\n",
    "plt.show();"
   ]
  },
  {
   "cell_type": "markdown",
   "metadata": {},
   "source": [
    "## Multivariate Visualisation"
   ]
  },
  {
   "cell_type": "markdown",
   "metadata": {},
   "source": [
    "### Scatterplot of Numerical Features & Final Grades"
   ]
  },
  {
   "cell_type": "markdown",
   "metadata": {},
   "source": [
    "The scatterplot in Figure 5 shows no clear correlation between the age and hours_per_week numeric variables. "
   ]
  },
  {
   "cell_type": "code",
   "execution_count": 38,
   "metadata": {},
   "outputs": [
    {
     "data": {
      "image/png": "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\n",
      "text/plain": [
       "<Figure size 432x288 with 1 Axes>"
      ]
     },
     "metadata": {
      "image/png": {
       "height": 282,
       "width": 478
      }
     },
     "output_type": "display_data"
    }
   ],
   "source": [
    "#\n",
    "plt.scatter(df['studytime'], df['G3'], alpha = 0.1)\n",
    "plt.title('Figure 5: Scatterplot of Study time per week and Final Grades', fontsize = 15)\n",
    "plt.xlabel('Study_time_per_week')\n",
    "plt.ylabel('Final_grades')\n",
    "plt.show();"
   ]
  },
  {
   "cell_type": "markdown",
   "metadata": {},
   "source": [
    "### Catagorical attributes by Final Grades"
   ]
  },
  {
   "cell_type": "markdown",
   "metadata": {},
   "source": [
    "We can see that the distribution of Final Grades between students involved in extra-curricular activities and those not is similar. "
   ]
  },
  {
   "cell_type": "code",
   "execution_count": 40,
   "metadata": {},
   "outputs": [
    {
     "data": {
      "image/png": "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\n",
      "text/plain": [
       "<Figure size 432x288 with 1 Axes>"
      ]
     },
     "metadata": {
      "image/png": {
       "height": 281,
       "width": 475
      }
     },
     "output_type": "display_data"
    }
   ],
   "source": [
    "# Creating a boxplot\n",
    "sns.boxplot(df['activities'], df['G3']);\n",
    "plt.title('Figure 6: Boxplot of Final Grades by extra-curricular activities', fontsize = 15)\n",
    "plt.show();"
   ]
  },
  {
   "cell_type": "markdown",
   "metadata": {},
   "source": [
    "new addition"
>>>>>>> Rhyme
   ]
  },
  {
   "cell_type": "code",
   "execution_count": null,
   "metadata": {},
   "outputs": [],
   "source": []
  }
 ],
 "metadata": {
  "kernelspec": {
   "display_name": "Python 3",
   "language": "python",
   "name": "python3"
  },
  "language_info": {
   "codemirror_mode": {
    "name": "ipython",
    "version": 3
   },
   "file_extension": ".py",
   "mimetype": "text/x-python",
   "name": "python",
   "nbconvert_exporter": "python",
   "pygments_lexer": "ipython3",
   "version": "3.7.6"
  }
 },
 "nbformat": 4,
 "nbformat_minor": 4
}
